{
 "cells": [
  {
   "cell_type": "code",
   "execution_count": 26,
   "metadata": {},
   "outputs": [
    {
     "data": {
      "text/html": [
       "<div>\n",
       "<style scoped>\n",
       "    .dataframe tbody tr th:only-of-type {\n",
       "        vertical-align: middle;\n",
       "    }\n",
       "\n",
       "    .dataframe tbody tr th {\n",
       "        vertical-align: top;\n",
       "    }\n",
       "\n",
       "    .dataframe thead th {\n",
       "        text-align: right;\n",
       "    }\n",
       "</style>\n",
       "<table border=\"1\" class=\"dataframe\">\n",
       "  <thead>\n",
       "    <tr style=\"text-align: right;\">\n",
       "      <th></th>\n",
       "      <th>time</th>\n",
       "      <th>datacenter_id</th>\n",
       "      <th>datacenter_name</th>\n",
       "      <th>host_id</th>\n",
       "      <th>type</th>\n",
       "      <th>active</th>\n",
       "      <th>number_of_pes</th>\n",
       "      <th>available_pes</th>\n",
       "      <th>mips</th>\n",
       "      <th>available_mips</th>\n",
       "      <th>...</th>\n",
       "      <th>frequency_range</th>\n",
       "      <th>voltage_range</th>\n",
       "      <th>ram</th>\n",
       "      <th>available_ram</th>\n",
       "      <th>bw</th>\n",
       "      <th>available_bw</th>\n",
       "      <th>storage</th>\n",
       "      <th>available_storage</th>\n",
       "      <th>power_model</th>\n",
       "      <th>vms</th>\n",
       "    </tr>\n",
       "  </thead>\n",
       "  <tbody>\n",
       "    <tr>\n",
       "      <th>0</th>\n",
       "      <td>300.01</td>\n",
       "      <td>2</td>\n",
       "      <td>Datacenter_1</td>\n",
       "      <td>0</td>\n",
       "      <td>host</td>\n",
       "      <td>True</td>\n",
       "      <td>2</td>\n",
       "      <td>0</td>\n",
       "      <td>6000</td>\n",
       "      <td>2387.365877</td>\n",
       "      <td>...</td>\n",
       "      <td>NaN</td>\n",
       "      <td>1.200-1.3375</td>\n",
       "      <td>4000</td>\n",
       "      <td>17.0</td>\n",
       "      <td>10000</td>\n",
       "      <td>9838.0</td>\n",
       "      <td>160000</td>\n",
       "      <td>159100.0</td>\n",
       "      <td>105.0,112.0,118.0,125.0,131.0,137.0,147.0,153....</td>\n",
       "      <td>2,394.03460741333333,0.0,0.0:2,433.04793488,0....</td>\n",
       "    </tr>\n",
       "    <tr>\n",
       "      <th>1</th>\n",
       "      <td>600.01</td>\n",
       "      <td>2</td>\n",
       "      <td>Datacenter_1</td>\n",
       "      <td>0</td>\n",
       "      <td>host</td>\n",
       "      <td>True</td>\n",
       "      <td>2</td>\n",
       "      <td>0</td>\n",
       "      <td>6000</td>\n",
       "      <td>2387.365877</td>\n",
       "      <td>...</td>\n",
       "      <td>NaN</td>\n",
       "      <td>1.200-1.3375</td>\n",
       "      <td>4000</td>\n",
       "      <td>17.0</td>\n",
       "      <td>10000</td>\n",
       "      <td>9838.0</td>\n",
       "      <td>160000</td>\n",
       "      <td>159100.0</td>\n",
       "      <td>105.0,112.0,118.0,125.0,131.0,137.0,147.0,153....</td>\n",
       "      <td>2,394.03460741333333,0.0,0.0:2,433.04793488,0....</td>\n",
       "    </tr>\n",
       "    <tr>\n",
       "      <th>2</th>\n",
       "      <td>900.01</td>\n",
       "      <td>2</td>\n",
       "      <td>Datacenter_1</td>\n",
       "      <td>0</td>\n",
       "      <td>host</td>\n",
       "      <td>True</td>\n",
       "      <td>2</td>\n",
       "      <td>0</td>\n",
       "      <td>6000</td>\n",
       "      <td>2387.365877</td>\n",
       "      <td>...</td>\n",
       "      <td>NaN</td>\n",
       "      <td>1.200-1.3375</td>\n",
       "      <td>4000</td>\n",
       "      <td>17.0</td>\n",
       "      <td>10000</td>\n",
       "      <td>9838.0</td>\n",
       "      <td>160000</td>\n",
       "      <td>159100.0</td>\n",
       "      <td>105.0,112.0,118.0,125.0,131.0,137.0,147.0,153....</td>\n",
       "      <td>2,394.03460741333333,0.0,0.0:2,433.04793488,0....</td>\n",
       "    </tr>\n",
       "    <tr>\n",
       "      <th>3</th>\n",
       "      <td>1200.01</td>\n",
       "      <td>2</td>\n",
       "      <td>Datacenter_1</td>\n",
       "      <td>0</td>\n",
       "      <td>host</td>\n",
       "      <td>True</td>\n",
       "      <td>2</td>\n",
       "      <td>0</td>\n",
       "      <td>6000</td>\n",
       "      <td>2387.365877</td>\n",
       "      <td>...</td>\n",
       "      <td>NaN</td>\n",
       "      <td>1.200-1.3375</td>\n",
       "      <td>4000</td>\n",
       "      <td>17.0</td>\n",
       "      <td>10000</td>\n",
       "      <td>9838.0</td>\n",
       "      <td>160000</td>\n",
       "      <td>159100.0</td>\n",
       "      <td>105.0,112.0,118.0,125.0,131.0,137.0,147.0,153....</td>\n",
       "      <td>2,394.03460741333333,0.0,0.0:2,433.04793488,0....</td>\n",
       "    </tr>\n",
       "    <tr>\n",
       "      <th>4</th>\n",
       "      <td>1500.01</td>\n",
       "      <td>2</td>\n",
       "      <td>Datacenter_1</td>\n",
       "      <td>0</td>\n",
       "      <td>host</td>\n",
       "      <td>True</td>\n",
       "      <td>2</td>\n",
       "      <td>0</td>\n",
       "      <td>6000</td>\n",
       "      <td>2387.365877</td>\n",
       "      <td>...</td>\n",
       "      <td>NaN</td>\n",
       "      <td>1.200-1.3375</td>\n",
       "      <td>4000</td>\n",
       "      <td>17.0</td>\n",
       "      <td>10000</td>\n",
       "      <td>9838.0</td>\n",
       "      <td>160000</td>\n",
       "      <td>159100.0</td>\n",
       "      <td>105.0,112.0,118.0,125.0,131.0,137.0,147.0,153....</td>\n",
       "      <td>2,394.03460741333333,0.0,0.0:2,433.04793488,0....</td>\n",
       "    </tr>\n",
       "  </tbody>\n",
       "</table>\n",
       "<p>5 rows × 22 columns</p>\n",
       "</div>"
      ],
      "text/plain": [
       "      time  datacenter_id datacenter_name  host_id  type  active  \\\n",
       "0   300.01              2    Datacenter_1        0  host    True   \n",
       "1   600.01              2    Datacenter_1        0  host    True   \n",
       "2   900.01              2    Datacenter_1        0  host    True   \n",
       "3  1200.01              2    Datacenter_1        0  host    True   \n",
       "4  1500.01              2    Datacenter_1        0  host    True   \n",
       "\n",
       "   number_of_pes  available_pes  mips  available_mips  ... frequency_range  \\\n",
       "0              2              0  6000     2387.365877  ...             NaN   \n",
       "1              2              0  6000     2387.365877  ...             NaN   \n",
       "2              2              0  6000     2387.365877  ...             NaN   \n",
       "3              2              0  6000     2387.365877  ...             NaN   \n",
       "4              2              0  6000     2387.365877  ...             NaN   \n",
       "\n",
       "   voltage_range   ram available_ram     bw  available_bw  storage  \\\n",
       "0   1.200-1.3375  4000          17.0  10000        9838.0   160000   \n",
       "1   1.200-1.3375  4000          17.0  10000        9838.0   160000   \n",
       "2   1.200-1.3375  4000          17.0  10000        9838.0   160000   \n",
       "3   1.200-1.3375  4000          17.0  10000        9838.0   160000   \n",
       "4   1.200-1.3375  4000          17.0  10000        9838.0   160000   \n",
       "\n",
       "   available_storage                                        power_model  \\\n",
       "0           159100.0  105.0,112.0,118.0,125.0,131.0,137.0,147.0,153....   \n",
       "1           159100.0  105.0,112.0,118.0,125.0,131.0,137.0,147.0,153....   \n",
       "2           159100.0  105.0,112.0,118.0,125.0,131.0,137.0,147.0,153....   \n",
       "3           159100.0  105.0,112.0,118.0,125.0,131.0,137.0,147.0,153....   \n",
       "4           159100.0  105.0,112.0,118.0,125.0,131.0,137.0,147.0,153....   \n",
       "\n",
       "                                                 vms  \n",
       "0  2,394.03460741333333,0.0,0.0:2,433.04793488,0....  \n",
       "1  2,394.03460741333333,0.0,0.0:2,433.04793488,0....  \n",
       "2  2,394.03460741333333,0.0,0.0:2,433.04793488,0....  \n",
       "3  2,394.03460741333333,0.0,0.0:2,433.04793488,0....  \n",
       "4  2,394.03460741333333,0.0,0.0:2,433.04793488,0....  \n",
       "\n",
       "[5 rows x 22 columns]"
      ]
     },
     "execution_count": 26,
     "metadata": {},
     "output_type": "execute_result"
    }
   ],
   "source": [
    "import pandas as pd\n",
    "import numpy as np\n",
    "import matplotlib as plt\n",
    "\n",
    "dataset = pd.read_csv(\"./data/logfile-v6.csv\", delimiter=\";\")\n",
    "dataset.head()"
   ]
  },
  {
   "cell_type": "code",
   "execution_count": 27,
   "metadata": {},
   "outputs": [
    {
     "data": {
      "text/plain": [
       "970200"
      ]
     },
     "execution_count": 27,
     "metadata": {},
     "output_type": "execute_result"
    }
   ],
   "source": [
    "dataset.size"
   ]
  },
  {
   "cell_type": "code",
   "execution_count": 28,
   "metadata": {},
   "outputs": [
    {
     "data": {
      "text/plain": [
       "Index(['time', 'datacenter_id', 'datacenter_name', 'host_id', 'type', 'active',\n",
       "       'number_of_pes', 'available_pes', 'mips', 'available_mips',\n",
       "       'utilization_per_pe', 'dvfs_available', 'frequency_range',\n",
       "       'voltage_range', 'ram', 'available_ram', 'bw', 'available_bw',\n",
       "       'storage', 'available_storage', 'power_model', 'vms'],\n",
       "      dtype='object')"
      ]
     },
     "execution_count": 28,
     "metadata": {},
     "output_type": "execute_result"
    }
   ],
   "source": [
    "dataset.columns"
   ]
  },
  {
   "cell_type": "code",
   "execution_count": 29,
   "metadata": {},
   "outputs": [
    {
     "data": {
      "text/plain": [
       "time                  float64\n",
       "datacenter_id           int64\n",
       "datacenter_name        object\n",
       "host_id                 int64\n",
       "type                   object\n",
       "active                   bool\n",
       "number_of_pes           int64\n",
       "available_pes           int64\n",
       "mips                    int64\n",
       "available_mips        float64\n",
       "utilization_per_pe     object\n",
       "dvfs_available           bool\n",
       "frequency_range        object\n",
       "voltage_range          object\n",
       "ram                     int64\n",
       "available_ram         float64\n",
       "bw                      int64\n",
       "available_bw          float64\n",
       "storage                 int64\n",
       "available_storage     float64\n",
       "power_model            object\n",
       "vms                    object\n",
       "dtype: object"
      ]
     },
     "execution_count": 29,
     "metadata": {},
     "output_type": "execute_result"
    }
   ],
   "source": [
    "dataset.dtypes"
   ]
  },
  {
   "cell_type": "code",
   "execution_count": 30,
   "metadata": {},
   "outputs": [
    {
     "name": "stdout",
     "output_type": "stream",
     "text": [
      "Number of null in the dataset: 43638\n",
      "Number of NaN in the dataset: 43638\n"
     ]
    }
   ],
   "source": [
    "print(f\"Number of null in the dataset: {dataset.isnull().sum().sum()}\")\n",
    "print(f\"Number of NaN in the dataset: {dataset.isna().sum().sum()}\")"
   ]
  },
  {
   "cell_type": "code",
   "execution_count": 31,
   "metadata": {},
   "outputs": [
    {
     "name": "stdout",
     "output_type": "stream",
     "text": [
      "Number of null per field: \n",
      "time                      0\n",
      "datacenter_id             0\n",
      "datacenter_name           0\n",
      "host_id                   0\n",
      "type                      0\n",
      "active                    0\n",
      "number_of_pes             0\n",
      "available_pes             0\n",
      "mips                      0\n",
      "available_mips            0\n",
      "utilization_per_pe        0\n",
      "dvfs_available            0\n",
      "frequency_range       38640\n",
      "voltage_range             0\n",
      "ram                       0\n",
      "available_ram             0\n",
      "bw                        0\n",
      "available_bw              0\n",
      "storage                   0\n",
      "available_storage         0\n",
      "power_model               0\n",
      "vms                    4998\n",
      "dtype: int64\n",
      "Number of NaN per field: \n",
      "time                      0\n",
      "datacenter_id             0\n",
      "datacenter_name           0\n",
      "host_id                   0\n",
      "type                      0\n",
      "active                    0\n",
      "number_of_pes             0\n",
      "available_pes             0\n",
      "mips                      0\n",
      "available_mips            0\n",
      "utilization_per_pe        0\n",
      "dvfs_available            0\n",
      "frequency_range       38640\n",
      "voltage_range             0\n",
      "ram                       0\n",
      "available_ram             0\n",
      "bw                        0\n",
      "available_bw              0\n",
      "storage                   0\n",
      "available_storage         0\n",
      "power_model               0\n",
      "vms                    4998\n",
      "dtype: int64\n"
     ]
    }
   ],
   "source": [
    "print(f\"Number of null per field: \\n{dataset.isnull().sum()}\")\n",
    "print(f\"Number of NaN per field: \\n{dataset.isna().sum()}\")"
   ]
  },
  {
   "cell_type": "code",
   "execution_count": 32,
   "metadata": {},
   "outputs": [
    {
     "name": "stdout",
     "output_type": "stream",
     "text": [
      "Datacenter Datacenter_1 has 400 hosts.\n",
      "Datacenter Datacenter_2 has 185 hosts.\n",
      "Datacenter Datacenter_3 has 190 hosts.\n",
      "Datacenter Datacenter_4 has 275 hosts.\n"
     ]
    }
   ],
   "source": [
    "labels, values = np.unique(dataset['datacenter_name'], return_counts=True)\n",
    "labels2, values2 = np.unique(dataset['time'], return_counts=True)\n",
    "for i in range(len(labels)):\n",
    "    print(f\"Datacenter {labels[i]} has {int(values[i]/len(values2))} hosts.\")"
   ]
  },
  {
   "cell_type": "code",
   "execution_count": 33,
   "metadata": {},
   "outputs": [
    {
     "name": "stdout",
     "output_type": "stream",
     "text": [
      "There are 44100 of type host.\n"
     ]
    }
   ],
   "source": [
    "labels, values = np.unique(dataset['type'], return_counts=True)\n",
    "for i in range(len(labels)):\n",
    "    print(f\"There are {values[i]} of type {labels[i]}.\")"
   ]
  },
  {
   "cell_type": "markdown",
   "metadata": {},
   "source": [
    "### Storage dataset"
   ]
  },
  {
   "cell_type": "code",
   "execution_count": 34,
   "metadata": {},
   "outputs": [
    {
     "data": {
      "text/html": [
       "<div>\n",
       "<style scoped>\n",
       "    .dataframe tbody tr th:only-of-type {\n",
       "        vertical-align: middle;\n",
       "    }\n",
       "\n",
       "    .dataframe tbody tr th {\n",
       "        vertical-align: top;\n",
       "    }\n",
       "\n",
       "    .dataframe thead th {\n",
       "        text-align: right;\n",
       "    }\n",
       "</style>\n",
       "<table border=\"1\" class=\"dataframe\">\n",
       "  <thead>\n",
       "    <tr style=\"text-align: right;\">\n",
       "      <th></th>\n",
       "      <th>datacenter_id</th>\n",
       "      <th>datacenter_name</th>\n",
       "      <th>datacenter_storage_energy</th>\n",
       "      <th>storage_id</th>\n",
       "      <th>system</th>\n",
       "      <th>storage_capacity</th>\n",
       "      <th>capacity_used</th>\n",
       "      <th>active_duration</th>\n",
       "      <th>idle_intervals</th>\n",
       "      <th>duration</th>\n",
       "      <th>total_energy_active</th>\n",
       "      <th>total_energy_idle</th>\n",
       "      <th>average_rotation_latency</th>\n",
       "      <th>average_seek_Time</th>\n",
       "      <th>max_internal_data_transfer_rate</th>\n",
       "      <th>is_active</th>\n",
       "      <th>idle_power</th>\n",
       "      <th>active_power</th>\n",
       "      <th>files</th>\n",
       "      <th>Unnamed: 19</th>\n",
       "    </tr>\n",
       "  </thead>\n",
       "  <tbody>\n",
       "    <tr>\n",
       "      <th>0</th>\n",
       "      <td>3</td>\n",
       "      <td>Datacenter_1</td>\n",
       "      <td>113716.350085</td>\n",
       "      <td>0</td>\n",
       "      <td>storage</td>\n",
       "      <td>900000.0</td>\n",
       "      <td>144384.0</td>\n",
       "      <td>745.127461</td>\n",
       "      <td>1.0000017892249078:</td>\n",
       "      <td>961.692048</td>\n",
       "      <td>4321.739273</td>\n",
       "      <td>3.000005</td>\n",
       "      <td>0.003</td>\n",
       "      <td>0.004</td>\n",
       "      <td>198.0</td>\n",
       "      <td>False</td>\n",
       "      <td>3.0</td>\n",
       "      <td>5.8</td>\n",
       "      <td>55596,3072,15.519012736963932:1-55848,3072,15....</td>\n",
       "      <td>NaN</td>\n",
       "    </tr>\n",
       "    <tr>\n",
       "      <th>1</th>\n",
       "      <td>3</td>\n",
       "      <td>Datacenter_1</td>\n",
       "      <td>113716.350085</td>\n",
       "      <td>1</td>\n",
       "      <td>storage</td>\n",
       "      <td>900000.0</td>\n",
       "      <td>139776.0</td>\n",
       "      <td>721.881444</td>\n",
       "      <td>1.0000001822594735:</td>\n",
       "      <td>961.692048</td>\n",
       "      <td>4186.912375</td>\n",
       "      <td>3.000001</td>\n",
       "      <td>0.003</td>\n",
       "      <td>0.004</td>\n",
       "      <td>198.0</td>\n",
       "      <td>False</td>\n",
       "      <td>3.0</td>\n",
       "      <td>5.8</td>\n",
       "      <td>3-55896,3072,15.518360641031068:2-572526,2560,...</td>\n",
       "      <td>NaN</td>\n",
       "    </tr>\n",
       "    <tr>\n",
       "      <th>2</th>\n",
       "      <td>3</td>\n",
       "      <td>Datacenter_1</td>\n",
       "      <td>113716.350085</td>\n",
       "      <td>2</td>\n",
       "      <td>storage</td>\n",
       "      <td>900000.0</td>\n",
       "      <td>145408.0</td>\n",
       "      <td>765.796667</td>\n",
       "      <td>1.000000266829021:</td>\n",
       "      <td>961.692048</td>\n",
       "      <td>4441.620671</td>\n",
       "      <td>3.000001</td>\n",
       "      <td>0.003</td>\n",
       "      <td>0.004</td>\n",
       "      <td>198.0</td>\n",
       "      <td>False</td>\n",
       "      <td>3.0</td>\n",
       "      <td>5.8</td>\n",
       "      <td>1-450552,1024,5.183152612866157:6-753921,3072,...</td>\n",
       "      <td>NaN</td>\n",
       "    </tr>\n",
       "    <tr>\n",
       "      <th>3</th>\n",
       "      <td>3</td>\n",
       "      <td>Datacenter_1</td>\n",
       "      <td>113716.350085</td>\n",
       "      <td>3</td>\n",
       "      <td>storage</td>\n",
       "      <td>900000.0</td>\n",
       "      <td>169472.0</td>\n",
       "      <td>954.602773</td>\n",
       "      <td>1.0000002917759447:</td>\n",
       "      <td>961.692048</td>\n",
       "      <td>5536.696084</td>\n",
       "      <td>3.000001</td>\n",
       "      <td>0.003</td>\n",
       "      <td>0.004</td>\n",
       "      <td>198.0</td>\n",
       "      <td>False</td>\n",
       "      <td>3.0</td>\n",
       "      <td>5.8</td>\n",
       "      <td>591399,3072,15.520055166649824:288827,512,2.59...</td>\n",
       "      <td>NaN</td>\n",
       "    </tr>\n",
       "    <tr>\n",
       "      <th>4</th>\n",
       "      <td>3</td>\n",
       "      <td>Datacenter_1</td>\n",
       "      <td>113716.350085</td>\n",
       "      <td>4</td>\n",
       "      <td>storage</td>\n",
       "      <td>900000.0</td>\n",
       "      <td>168448.0</td>\n",
       "      <td>856.300420</td>\n",
       "      <td>1.0000004167879113:</td>\n",
       "      <td>961.692048</td>\n",
       "      <td>4966.542439</td>\n",
       "      <td>3.000001</td>\n",
       "      <td>0.003</td>\n",
       "      <td>0.004</td>\n",
       "      <td>198.0</td>\n",
       "      <td>False</td>\n",
       "      <td>3.0</td>\n",
       "      <td>5.8</td>\n",
       "      <td>25-240840,3072,15.526928354068726:1-878247,102...</td>\n",
       "      <td>NaN</td>\n",
       "    </tr>\n",
       "  </tbody>\n",
       "</table>\n",
       "</div>"
      ],
      "text/plain": [
       "   datacenter_id datacenter_name  datacenter_storage_energy  storage_id  \\\n",
       "0              3    Datacenter_1              113716.350085           0   \n",
       "1              3    Datacenter_1              113716.350085           1   \n",
       "2              3    Datacenter_1              113716.350085           2   \n",
       "3              3    Datacenter_1              113716.350085           3   \n",
       "4              3    Datacenter_1              113716.350085           4   \n",
       "\n",
       "    system  storage_capacity  capacity_used  active_duration  \\\n",
       "0  storage          900000.0       144384.0       745.127461   \n",
       "1  storage          900000.0       139776.0       721.881444   \n",
       "2  storage          900000.0       145408.0       765.796667   \n",
       "3  storage          900000.0       169472.0       954.602773   \n",
       "4  storage          900000.0       168448.0       856.300420   \n",
       "\n",
       "        idle_intervals    duration  total_energy_active  total_energy_idle  \\\n",
       "0  1.0000017892249078:  961.692048          4321.739273           3.000005   \n",
       "1  1.0000001822594735:  961.692048          4186.912375           3.000001   \n",
       "2   1.000000266829021:  961.692048          4441.620671           3.000001   \n",
       "3  1.0000002917759447:  961.692048          5536.696084           3.000001   \n",
       "4  1.0000004167879113:  961.692048          4966.542439           3.000001   \n",
       "\n",
       "   average_rotation_latency  average_seek_Time  \\\n",
       "0                     0.003              0.004   \n",
       "1                     0.003              0.004   \n",
       "2                     0.003              0.004   \n",
       "3                     0.003              0.004   \n",
       "4                     0.003              0.004   \n",
       "\n",
       "   max_internal_data_transfer_rate  is_active  idle_power  active_power  \\\n",
       "0                            198.0      False         3.0           5.8   \n",
       "1                            198.0      False         3.0           5.8   \n",
       "2                            198.0      False         3.0           5.8   \n",
       "3                            198.0      False         3.0           5.8   \n",
       "4                            198.0      False         3.0           5.8   \n",
       "\n",
       "                                               files  Unnamed: 19  \n",
       "0  55596,3072,15.519012736963932:1-55848,3072,15....          NaN  \n",
       "1  3-55896,3072,15.518360641031068:2-572526,2560,...          NaN  \n",
       "2  1-450552,1024,5.183152612866157:6-753921,3072,...          NaN  \n",
       "3  591399,3072,15.520055166649824:288827,512,2.59...          NaN  \n",
       "4  25-240840,3072,15.526928354068726:1-878247,102...          NaN  "
      ]
     },
     "execution_count": 34,
     "metadata": {},
     "output_type": "execute_result"
    }
   ],
   "source": [
    "storage_dataset = pd.read_csv(\"./data/logfile-storage-v4.csv\", delimiter=\";\")\n",
    "storage_dataset.head()"
   ]
  },
  {
   "cell_type": "code",
   "execution_count": 35,
   "metadata": {},
   "outputs": [
    {
     "data": {
      "text/plain": [
       "1200"
      ]
     },
     "execution_count": 35,
     "metadata": {},
     "output_type": "execute_result"
    }
   ],
   "source": [
    "storage_dataset.size"
   ]
  },
  {
   "cell_type": "code",
   "execution_count": 36,
   "metadata": {},
   "outputs": [
    {
     "data": {
      "text/plain": [
       "Index(['datacenter_id', 'datacenter_name', 'datacenter_storage_energy',\n",
       "       'storage_id', 'system', 'storage_capacity', 'capacity_used',\n",
       "       'active_duration', 'idle_intervals', 'duration', 'total_energy_active',\n",
       "       'total_energy_idle', 'average_rotation_latency', 'average_seek_Time',\n",
       "       'max_internal_data_transfer_rate', 'is_active', 'idle_power',\n",
       "       'active_power', 'files', 'Unnamed: 19'],\n",
       "      dtype='object')"
      ]
     },
     "execution_count": 36,
     "metadata": {},
     "output_type": "execute_result"
    }
   ],
   "source": [
    "storage_dataset.columns"
   ]
  },
  {
   "cell_type": "code",
   "execution_count": 37,
   "metadata": {},
   "outputs": [
    {
     "data": {
      "text/plain": [
       "datacenter_id                        int64\n",
       "datacenter_name                     object\n",
       "datacenter_storage_energy          float64\n",
       "storage_id                           int64\n",
       "system                              object\n",
       "storage_capacity                   float64\n",
       "capacity_used                      float64\n",
       "active_duration                    float64\n",
       "idle_intervals                      object\n",
       "duration                           float64\n",
       "total_energy_active                float64\n",
       "total_energy_idle                  float64\n",
       "average_rotation_latency           float64\n",
       "average_seek_Time                  float64\n",
       "max_internal_data_transfer_rate    float64\n",
       "is_active                             bool\n",
       "idle_power                         float64\n",
       "active_power                       float64\n",
       "files                               object\n",
       "Unnamed: 19                        float64\n",
       "dtype: object"
      ]
     },
     "execution_count": 37,
     "metadata": {},
     "output_type": "execute_result"
    }
   ],
   "source": [
    "storage_dataset.dtypes"
   ]
  },
  {
   "cell_type": "code",
   "execution_count": 38,
   "metadata": {},
   "outputs": [
    {
     "name": "stdout",
     "output_type": "stream",
     "text": [
      "Number of null in the dataset: 147\n",
      "Number of NaN in the dataset: 147\n"
     ]
    }
   ],
   "source": [
    "print(f\"Number of null in the dataset: {storage_dataset.isnull().sum().sum()}\")\n",
    "print(f\"Number of NaN in the dataset: {storage_dataset.isna().sum().sum()}\")"
   ]
  },
  {
   "cell_type": "code",
   "execution_count": 39,
   "metadata": {},
   "outputs": [
    {
     "name": "stdout",
     "output_type": "stream",
     "text": [
      "Number of null per field: \n",
      "datacenter_id                       0\n",
      "datacenter_name                     0\n",
      "datacenter_storage_energy           0\n",
      "storage_id                          0\n",
      "system                              0\n",
      "storage_capacity                    0\n",
      "capacity_used                       0\n",
      "active_duration                     0\n",
      "idle_intervals                     45\n",
      "duration                            0\n",
      "total_energy_active                 0\n",
      "total_energy_idle                   0\n",
      "average_rotation_latency            0\n",
      "average_seek_Time                   0\n",
      "max_internal_data_transfer_rate     0\n",
      "is_active                           0\n",
      "idle_power                          0\n",
      "active_power                        0\n",
      "files                              42\n",
      "Unnamed: 19                        60\n",
      "dtype: int64\n",
      "Number of NaN per field: \n",
      "datacenter_id                       0\n",
      "datacenter_name                     0\n",
      "datacenter_storage_energy           0\n",
      "storage_id                          0\n",
      "system                              0\n",
      "storage_capacity                    0\n",
      "capacity_used                       0\n",
      "active_duration                     0\n",
      "idle_intervals                     45\n",
      "duration                            0\n",
      "total_energy_active                 0\n",
      "total_energy_idle                   0\n",
      "average_rotation_latency            0\n",
      "average_seek_Time                   0\n",
      "max_internal_data_transfer_rate     0\n",
      "is_active                           0\n",
      "idle_power                          0\n",
      "active_power                        0\n",
      "files                              42\n",
      "Unnamed: 19                        60\n",
      "dtype: int64\n"
     ]
    }
   ],
   "source": [
    "print(f\"Number of null per field: \\n{storage_dataset.isnull().sum()}\")\n",
    "print(f\"Number of NaN per field: \\n{storage_dataset.isna().sum()}\")"
   ]
  },
  {
   "cell_type": "code",
   "execution_count": 40,
   "metadata": {},
   "outputs": [
    {
     "name": "stdout",
     "output_type": "stream",
     "text": [
      "Datacenter 3 has 1 disk.\n",
      "Datacenter 4 has 1 disk.\n",
      "Datacenter 5 has 1 disk.\n",
      "Datacenter 6 has 1 disk.\n"
     ]
    }
   ],
   "source": [
    "labels, values = np.unique(storage_dataset['datacenter_id'], return_counts=True)\n",
    "for i in range(len(labels)):\n",
    "    print(f\"Datacenter {labels[i]} has {int(values[i]/14)} disk.\")"
   ]
  },
  {
   "cell_type": "code",
   "execution_count": 41,
   "metadata": {},
   "outputs": [],
   "source": [
    "# labels, values = np.unique(storage_dataset['type'], return_counts=True)\n",
    "# for i in range(len(labels)):\n",
    "#     print(f\"There are {values[i]} of type {labels[i]}.\")"
   ]
  },
  {
   "cell_type": "code",
   "execution_count": 42,
   "metadata": {},
   "outputs": [
    {
     "name": "stdout",
     "output_type": "stream",
     "text": [
      "Simulation duration 961.6920478889256s.\n",
      "duration 746.1274626791158s, active duration 745.1274608898908s, idle duration: 1.0000017892249078s.\n",
      "duration 722.8814441854488s, active duration 721.8814440031894s, idle duration: 1.0000001822594735s.\n",
      "duration 766.7966676032497s, active duration 765.7966673364207s, idle duration: 1.000000266829021s.\n",
      "duration 955.6027734597938s, active duration 954.6027731680178s, idle duration: 1.0000002917759447s.\n",
      "duration 857.300420869948s, active duration 856.3004204531601s, idle duration: 1.0000004167879113s.\n",
      "duration 606.135444476963s, active duration 605.1354440117186s, idle duration: 1.0000004652444445s.\n",
      "duration 774.4767387779605s, active duration 773.4767379110183s, idle duration: 1.0000008669421812s.\n",
      "duration 961.6920478889256s, active duration 960.6920469860372s, idle duration: 1.0000009028883063s.\n",
      "duration 897.734437299739s, active duration 896.7344362532269s, idle duration: 1.0000010465121425s.\n",
      "duration 930.9576646501441s, active duration 929.9576635255364s, idle duration: 1.0000011246077447s.\n",
      "duration 675.6699091692825s, active duration 674.6699080183539s, idle duration: 1.00000115092862s.\n",
      "duration 818.5505733327429s, active duration 817.5505719530302s, idle duration: 1.0000013797128078s.\n",
      "duration 842.3293996344162s, active duration 841.3293981500601s, idle duration: 1.0000014843560912s.\n",
      "duration 649.4609599570149s, active duration 648.4609583398627s, idle duration: 1.0000016171521608s.\n",
      "duration 844.7909823898569s, active duration 843.7909806834907s, idle duration: 1.0000017063661977s.\n",
      "duration 0.0s, active duration 0.0s, idle duration: 0s.\n",
      "duration 0.0s, active duration 0.0s, idle duration: 0s.\n",
      "duration 0.0s, active duration 0.0s, idle duration: 0s.\n",
      "duration 0.0s, active duration 0.0s, idle duration: 0s.\n",
      "duration 0.0s, active duration 0.0s, idle duration: 0s.\n",
      "duration 0.0s, active duration 0.0s, idle duration: 0s.\n",
      "duration 0.0s, active duration 0.0s, idle duration: 0s.\n",
      "duration 0.0s, active duration 0.0s, idle duration: 0s.\n",
      "duration 0.0s, active duration 0.0s, idle duration: 0s.\n",
      "duration 0.0s, active duration 0.0s, idle duration: 0s.\n",
      "duration 0.0s, active duration 0.0s, idle duration: 0s.\n",
      "duration 0.0s, active duration 0.0s, idle duration: 0s.\n",
      "duration 0.0s, active duration 0.0s, idle duration: 0s.\n",
      "duration 0.0s, active duration 0.0s, idle duration: 0s.\n",
      "duration 0.0s, active duration 0.0s, idle duration: 0s.\n",
      "duration 0.0s, active duration 0.0s, idle duration: 0s.\n",
      "duration 0.0s, active duration 0.0s, idle duration: 0s.\n",
      "duration 0.0s, active duration 0.0s, idle duration: 0s.\n",
      "duration 0.0s, active duration 0.0s, idle duration: 0s.\n",
      "duration 0.0s, active duration 0.0s, idle duration: 0s.\n",
      "duration 0.0s, active duration 0.0s, idle duration: 0s.\n",
      "duration 0.0s, active duration 0.0s, idle duration: 0s.\n",
      "duration 0.0s, active duration 0.0s, idle duration: 0s.\n",
      "duration 0.0s, active duration 0.0s, idle duration: 0s.\n",
      "duration 0.0s, active duration 0.0s, idle duration: 0s.\n",
      "duration 0.0s, active duration 0.0s, idle duration: 0s.\n",
      "duration 0.0s, active duration 0.0s, idle duration: 0s.\n",
      "duration 0.0s, active duration 0.0s, idle duration: 0s.\n",
      "duration 0.0s, active duration 0.0s, idle duration: 0s.\n",
      "duration 0.0s, active duration 0.0s, idle duration: 0s.\n",
      "duration 0.0s, active duration 0.0s, idle duration: 0s.\n",
      "duration 0.0s, active duration 0.0s, idle duration: 0s.\n",
      "duration 0.0s, active duration 0.0s, idle duration: 0s.\n",
      "duration 0.0s, active duration 0.0s, idle duration: 0s.\n",
      "duration 0.0s, active duration 0.0s, idle duration: 0s.\n",
      "duration 0.0s, active duration 0.0s, idle duration: 0s.\n",
      "duration 0.0s, active duration 0.0s, idle duration: 0s.\n",
      "duration 0.0s, active duration 0.0s, idle duration: 0s.\n",
      "duration 0.0s, active duration 0.0s, idle duration: 0s.\n",
      "duration 0.0s, active duration 0.0s, idle duration: 0s.\n",
      "duration 0.0s, active duration 0.0s, idle duration: 0s.\n",
      "duration 0.0s, active duration 0.0s, idle duration: 0s.\n",
      "duration 0.0s, active duration 0.0s, idle duration: 0s.\n",
      "duration 0.0s, active duration 0.0s, idle duration: 0s.\n",
      "duration 0.0s, active duration 0.0s, idle duration: 0s.\n"
     ]
    }
   ],
   "source": [
    "print(f\"Simulation duration {float(storage_dataset['duration'][0])}s.\")\n",
    "for _, sample in storage_dataset.iterrows():\n",
    "    idle_duration = 0\n",
    "    if pd.notna(sample['idle_intervals']):\n",
    "        for idle_interval in sample['idle_intervals'].split(\":\"):\n",
    "            if idle_interval != '':\n",
    "                idle_duration += float(idle_interval)\n",
    "    print(f\"duration {float(sample['active_duration'])+float(idle_duration)}s, active duration {sample['active_duration']}s, idle duration: {idle_duration}s.\")\n"
   ]
  },
  {
   "cell_type": "markdown",
   "metadata": {},
   "source": [
    "### Network dataset"
   ]
  },
  {
   "cell_type": "code",
   "execution_count": 43,
   "metadata": {},
   "outputs": [
    {
     "data": {
      "text/html": [
       "<div>\n",
       "<style scoped>\n",
       "    .dataframe tbody tr th:only-of-type {\n",
       "        vertical-align: middle;\n",
       "    }\n",
       "\n",
       "    .dataframe tbody tr th {\n",
       "        vertical-align: top;\n",
       "    }\n",
       "\n",
       "    .dataframe thead th {\n",
       "        text-align: right;\n",
       "    }\n",
       "</style>\n",
       "<table border=\"1\" class=\"dataframe\">\n",
       "  <thead>\n",
       "    <tr style=\"text-align: right;\">\n",
       "      <th></th>\n",
       "      <th>datacenter_id</th>\n",
       "      <th>datacenter_name</th>\n",
       "      <th>id</th>\n",
       "      <th>type</th>\n",
       "      <th>role</th>\n",
       "      <th>level</th>\n",
       "      <th>bandwidth</th>\n",
       "      <th>total_used_bandwidth</th>\n",
       "      <th>traffic_history</th>\n",
       "      <th>ports</th>\n",
       "      <th>duration</th>\n",
       "      <th>active_duration</th>\n",
       "      <th>power_per_port</th>\n",
       "      <th>low_power</th>\n",
       "      <th>high_power</th>\n",
       "      <th>is_active</th>\n",
       "      <th>Unnamed: 16</th>\n",
       "    </tr>\n",
       "  </thead>\n",
       "  <tbody>\n",
       "    <tr>\n",
       "      <th>0</th>\n",
       "      <td>0</td>\n",
       "      <td>Datacenter_1</td>\n",
       "      <td>0</td>\n",
       "      <td>switch</td>\n",
       "      <td>access switch</td>\n",
       "      <td>0</td>\n",
       "      <td>360000</td>\n",
       "      <td>2427.0</td>\n",
       "      <td>162.0:93.0:71.0:72.0:79.0:73.0:71.0:71.0:73.0:...</td>\n",
       "      <td>400,True,0.24269999999999994,12,0,10000,2427.0...</td>\n",
       "      <td>3.6094</td>\n",
       "      <td>0.006742</td>\n",
       "      <td>8</td>\n",
       "      <td>132</td>\n",
       "      <td>132</td>\n",
       "      <td>True</td>\n",
       "      <td>NaN</td>\n",
       "    </tr>\n",
       "    <tr>\n",
       "      <th>1</th>\n",
       "      <td>0</td>\n",
       "      <td>Datacenter_1</td>\n",
       "      <td>1</td>\n",
       "      <td>switch</td>\n",
       "      <td>access switch</td>\n",
       "      <td>0</td>\n",
       "      <td>360000</td>\n",
       "      <td>3573.0</td>\n",
       "      <td>89.0:89.0:95.0:198.0:218.0:156.0:90.0:109.0:17...</td>\n",
       "      <td>402,True,0.35729999999999995,12,1,10000,3573.0...</td>\n",
       "      <td>3.6094</td>\n",
       "      <td>0.009925</td>\n",
       "      <td>8</td>\n",
       "      <td>132</td>\n",
       "      <td>132</td>\n",
       "      <td>True</td>\n",
       "      <td>NaN</td>\n",
       "    </tr>\n",
       "    <tr>\n",
       "      <th>2</th>\n",
       "      <td>0</td>\n",
       "      <td>Datacenter_1</td>\n",
       "      <td>2</td>\n",
       "      <td>switch</td>\n",
       "      <td>access switch</td>\n",
       "      <td>0</td>\n",
       "      <td>360000</td>\n",
       "      <td>2492.0</td>\n",
       "      <td>94.0:68.0:73.0:61.0:73.0:83.0:74.0:63.0:73.0:7...</td>\n",
       "      <td>404,True,0.24919999999999998,12,2,10000,2492.0...</td>\n",
       "      <td>3.6094</td>\n",
       "      <td>0.006922</td>\n",
       "      <td>8</td>\n",
       "      <td>132</td>\n",
       "      <td>132</td>\n",
       "      <td>True</td>\n",
       "      <td>NaN</td>\n",
       "    </tr>\n",
       "    <tr>\n",
       "      <th>3</th>\n",
       "      <td>0</td>\n",
       "      <td>Datacenter_1</td>\n",
       "      <td>3</td>\n",
       "      <td>switch</td>\n",
       "      <td>access switch</td>\n",
       "      <td>0</td>\n",
       "      <td>360000</td>\n",
       "      <td>2335.0</td>\n",
       "      <td>64.0:64.0:64.0:73.0:74.0:64.0:74.0:74.0:56.0:6...</td>\n",
       "      <td>406,True,0.23349999999999999,12,3,10000,2335.0...</td>\n",
       "      <td>3.6094</td>\n",
       "      <td>0.006486</td>\n",
       "      <td>8</td>\n",
       "      <td>132</td>\n",
       "      <td>132</td>\n",
       "      <td>True</td>\n",
       "      <td>NaN</td>\n",
       "    </tr>\n",
       "    <tr>\n",
       "      <th>4</th>\n",
       "      <td>0</td>\n",
       "      <td>Datacenter_1</td>\n",
       "      <td>4</td>\n",
       "      <td>switch</td>\n",
       "      <td>access switch</td>\n",
       "      <td>0</td>\n",
       "      <td>360000</td>\n",
       "      <td>2436.0</td>\n",
       "      <td>70.0:64.0:57.0:75.0:72.0:65.0:75.0:66.0:63.0:7...</td>\n",
       "      <td>408,True,0.24359999999999996,12,4,10000,2436.0...</td>\n",
       "      <td>3.6094</td>\n",
       "      <td>0.006767</td>\n",
       "      <td>8</td>\n",
       "      <td>132</td>\n",
       "      <td>132</td>\n",
       "      <td>True</td>\n",
       "      <td>NaN</td>\n",
       "    </tr>\n",
       "  </tbody>\n",
       "</table>\n",
       "</div>"
      ],
      "text/plain": [
       "   datacenter_id datacenter_name  id    type           role  level  bandwidth  \\\n",
       "0              0    Datacenter_1   0  switch  access switch      0     360000   \n",
       "1              0    Datacenter_1   1  switch  access switch      0     360000   \n",
       "2              0    Datacenter_1   2  switch  access switch      0     360000   \n",
       "3              0    Datacenter_1   3  switch  access switch      0     360000   \n",
       "4              0    Datacenter_1   4  switch  access switch      0     360000   \n",
       "\n",
       "   total_used_bandwidth                                    traffic_history  \\\n",
       "0                2427.0  162.0:93.0:71.0:72.0:79.0:73.0:71.0:71.0:73.0:...   \n",
       "1                3573.0  89.0:89.0:95.0:198.0:218.0:156.0:90.0:109.0:17...   \n",
       "2                2492.0  94.0:68.0:73.0:61.0:73.0:83.0:74.0:63.0:73.0:7...   \n",
       "3                2335.0  64.0:64.0:64.0:73.0:74.0:64.0:74.0:74.0:56.0:6...   \n",
       "4                2436.0  70.0:64.0:57.0:75.0:72.0:65.0:75.0:66.0:63.0:7...   \n",
       "\n",
       "                                               ports  duration  \\\n",
       "0  400,True,0.24269999999999994,12,0,10000,2427.0...    3.6094   \n",
       "1  402,True,0.35729999999999995,12,1,10000,3573.0...    3.6094   \n",
       "2  404,True,0.24919999999999998,12,2,10000,2492.0...    3.6094   \n",
       "3  406,True,0.23349999999999999,12,3,10000,2335.0...    3.6094   \n",
       "4  408,True,0.24359999999999996,12,4,10000,2436.0...    3.6094   \n",
       "\n",
       "   active_duration  power_per_port  low_power  high_power  is_active  \\\n",
       "0         0.006742               8        132         132       True   \n",
       "1         0.009925               8        132         132       True   \n",
       "2         0.006922               8        132         132       True   \n",
       "3         0.006486               8        132         132       True   \n",
       "4         0.006767               8        132         132       True   \n",
       "\n",
       "   Unnamed: 16  \n",
       "0          NaN  \n",
       "1          NaN  \n",
       "2          NaN  \n",
       "3          NaN  \n",
       "4          NaN  "
      ]
     },
     "execution_count": 43,
     "metadata": {},
     "output_type": "execute_result"
    }
   ],
   "source": [
    "network_dataset = pd.read_csv(\"./data/logfile-network-v5.csv\", delimiter=\";\")\n",
    "network_dataset.head()"
   ]
  },
  {
   "cell_type": "code",
   "execution_count": 44,
   "metadata": {},
   "outputs": [
    {
     "data": {
      "text/plain": [
       "833"
      ]
     },
     "execution_count": 44,
     "metadata": {},
     "output_type": "execute_result"
    }
   ],
   "source": [
    "network_dataset.size"
   ]
  },
  {
   "cell_type": "code",
   "execution_count": 45,
   "metadata": {},
   "outputs": [
    {
     "data": {
      "text/plain": [
       "datacenter_id             int64\n",
       "datacenter_name          object\n",
       "id                        int64\n",
       "type                     object\n",
       "role                     object\n",
       "level                     int64\n",
       "bandwidth                 int64\n",
       "total_used_bandwidth    float64\n",
       "traffic_history          object\n",
       "ports                    object\n",
       "duration                float64\n",
       "active_duration         float64\n",
       "power_per_port            int64\n",
       "low_power                 int64\n",
       "high_power                int64\n",
       "is_active                  bool\n",
       "Unnamed: 16             float64\n",
       "dtype: object"
      ]
     },
     "execution_count": 45,
     "metadata": {},
     "output_type": "execute_result"
    }
   ],
   "source": [
    "network_dataset.dtypes"
   ]
  },
  {
   "cell_type": "code",
   "execution_count": 46,
   "metadata": {},
   "outputs": [
    {
     "name": "stdout",
     "output_type": "stream",
     "text": [
      "Number of null in the dataset: 57\n",
      "Number of NaN in the dataset: 57\n"
     ]
    }
   ],
   "source": [
    "print(f\"Number of null in the dataset: {network_dataset.isnull().sum().sum()}\")\n",
    "print(f\"Number of NaN in the dataset: {network_dataset.isna().sum().sum()}\")"
   ]
  },
  {
   "cell_type": "code",
   "execution_count": 47,
   "metadata": {},
   "outputs": [
    {
     "name": "stdout",
     "output_type": "stream",
     "text": [
      "Number of null per field: \n",
      "datacenter_id            0\n",
      "datacenter_name          0\n",
      "id                       0\n",
      "type                     0\n",
      "role                     0\n",
      "level                    0\n",
      "bandwidth                0\n",
      "total_used_bandwidth     0\n",
      "traffic_history          8\n",
      "ports                    0\n",
      "duration                 0\n",
      "active_duration          0\n",
      "power_per_port           0\n",
      "low_power                0\n",
      "high_power               0\n",
      "is_active                0\n",
      "Unnamed: 16             49\n",
      "dtype: int64\n",
      "Number of NaN per field: \n",
      "datacenter_id            0\n",
      "datacenter_name          0\n",
      "id                       0\n",
      "type                     0\n",
      "role                     0\n",
      "level                    0\n",
      "bandwidth                0\n",
      "total_used_bandwidth     0\n",
      "traffic_history          8\n",
      "ports                    0\n",
      "duration                 0\n",
      "active_duration          0\n",
      "power_per_port           0\n",
      "low_power                0\n",
      "high_power               0\n",
      "is_active                0\n",
      "Unnamed: 16             49\n",
      "dtype: int64\n"
     ]
    }
   ],
   "source": [
    "print(f\"Number of null per field: \\n{network_dataset.isnull().sum()}\")\n",
    "print(f\"Number of NaN per field: \\n{network_dataset.isna().sum()}\")"
   ]
  },
  {
   "cell_type": "code",
   "execution_count": 48,
   "metadata": {},
   "outputs": [
    {
     "name": "stdout",
     "output_type": "stream",
     "text": [
      "Datacenter 0 has 16 switches.\n",
      "Datacenter 1 has 10 switches.\n",
      "Datacenter 2 has 10 switches.\n",
      "Datacenter 3 has 13 switches.\n"
     ]
    }
   ],
   "source": [
    "labels, values = np.unique(network_dataset['datacenter_id'], return_counts=True)\n",
    "for i in range(len(labels)):\n",
    "    print(f\"Datacenter {labels[i]} has {int(values[i])} switches.\")"
   ]
  },
  {
   "cell_type": "code",
   "execution_count": 49,
   "metadata": {},
   "outputs": [
    {
     "name": "stdout",
     "output_type": "stream",
     "text": [
      "There are 49 of type switch.\n"
     ]
    }
   ],
   "source": [
    "labels, values = np.unique(network_dataset['type'], return_counts=True)\n",
    "for i in range(len(labels)):\n",
    "    print(f\"There are {values[i]} of type {labels[i]}.\")"
   ]
  },
  {
   "cell_type": "code",
   "execution_count": 50,
   "metadata": {},
   "outputs": [
    {
     "name": "stdout",
     "output_type": "stream",
     "text": [
      "Simulation duration 3.6094s.\n"
     ]
    }
   ],
   "source": [
    "print(f\"Simulation duration {network_dataset['duration'][0]}s.\")"
   ]
  },
  {
   "cell_type": "code",
   "execution_count": null,
   "metadata": {},
   "outputs": [],
   "source": []
  }
 ],
 "metadata": {
  "kernelspec": {
   "display_name": "Python 3",
   "language": "python",
   "name": "python3"
  },
  "language_info": {
   "codemirror_mode": {
    "name": "ipython",
    "version": 3
   },
   "file_extension": ".py",
   "mimetype": "text/x-python",
   "name": "python",
   "nbconvert_exporter": "python",
   "pygments_lexer": "ipython3",
   "version": "3.10.12"
  }
 },
 "nbformat": 4,
 "nbformat_minor": 2
}
