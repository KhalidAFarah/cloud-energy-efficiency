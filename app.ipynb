{
 "cells": [
  {
   "cell_type": "code",
   "execution_count": 79,
   "metadata": {},
   "outputs": [
    {
     "name": "stderr",
     "output_type": "stream",
     "text": [
      "/tmp/ipykernel_356923/4206746472.py:5: DtypeWarning: Columns (15) have mixed types. Specify dtype option on import or set low_memory=False.\n",
      "  dataset = pd.read_csv(\"./data/logfile-v5.csv\", delimiter=\";\")\n"
     ]
    },
    {
     "data": {
      "text/html": [
       "<div>\n",
       "<style scoped>\n",
       "    .dataframe tbody tr th:only-of-type {\n",
       "        vertical-align: middle;\n",
       "    }\n",
       "\n",
       "    .dataframe tbody tr th {\n",
       "        vertical-align: top;\n",
       "    }\n",
       "\n",
       "    .dataframe thead th {\n",
       "        text-align: right;\n",
       "    }\n",
       "</style>\n",
       "<table border=\"1\" class=\"dataframe\">\n",
       "  <thead>\n",
       "    <tr style=\"text-align: right;\">\n",
       "      <th></th>\n",
       "      <th>time</th>\n",
       "      <th>datacenter_name</th>\n",
       "      <th>host_id</th>\n",
       "      <th>type</th>\n",
       "      <th>active</th>\n",
       "      <th>number_of_pes</th>\n",
       "      <th>available_pes</th>\n",
       "      <th>mips</th>\n",
       "      <th>available_mips</th>\n",
       "      <th>utilization_per_pe</th>\n",
       "      <th>ram</th>\n",
       "      <th>available_ram</th>\n",
       "      <th>bw</th>\n",
       "      <th>available_bw</th>\n",
       "      <th>power_model</th>\n",
       "      <th>vms</th>\n",
       "      <th>Unnamed: 16</th>\n",
       "    </tr>\n",
       "  </thead>\n",
       "  <tbody>\n",
       "    <tr>\n",
       "      <th>0</th>\n",
       "      <td>300.01</td>\n",
       "      <td>Datacenter_1</td>\n",
       "      <td>0</td>\n",
       "      <td>host</td>\n",
       "      <td>True</td>\n",
       "      <td>2</td>\n",
       "      <td>1</td>\n",
       "      <td>6000</td>\n",
       "      <td>2387.365877</td>\n",
       "      <td>3000.0,0.0:3000.0,2387.3658765866667:</td>\n",
       "      <td>4000</td>\n",
       "      <td>3983.0</td>\n",
       "      <td>1000</td>\n",
       "      <td>0.0</td>\n",
       "      <td>105.0,112.0,118.0,125.0,131.0,137.0,147.0,153....</td>\n",
       "      <td>2,394.03460741333333,425.0,0.0:2,433.04793488,...</td>\n",
       "      <td>NaN</td>\n",
       "    </tr>\n",
       "    <tr>\n",
       "      <th>1</th>\n",
       "      <td>600.01</td>\n",
       "      <td>Datacenter_1</td>\n",
       "      <td>0</td>\n",
       "      <td>host</td>\n",
       "      <td>True</td>\n",
       "      <td>2</td>\n",
       "      <td>1</td>\n",
       "      <td>6000</td>\n",
       "      <td>2387.365877</td>\n",
       "      <td>3000.0,0.0:3000.0,2387.3658765866667:</td>\n",
       "      <td>4000</td>\n",
       "      <td>3983.0</td>\n",
       "      <td>1000</td>\n",
       "      <td>0.0</td>\n",
       "      <td>105.0,112.0,118.0,125.0,131.0,137.0,147.0,153....</td>\n",
       "      <td>2,394.03460741333333,425.0,0.0:2,433.04793488,...</td>\n",
       "      <td>NaN</td>\n",
       "    </tr>\n",
       "    <tr>\n",
       "      <th>2</th>\n",
       "      <td>900.01</td>\n",
       "      <td>Datacenter_1</td>\n",
       "      <td>0</td>\n",
       "      <td>host</td>\n",
       "      <td>True</td>\n",
       "      <td>2</td>\n",
       "      <td>1</td>\n",
       "      <td>6000</td>\n",
       "      <td>2387.365877</td>\n",
       "      <td>3000.0,0.0:3000.0,2387.3658765866667:</td>\n",
       "      <td>4000</td>\n",
       "      <td>3983.0</td>\n",
       "      <td>1000</td>\n",
       "      <td>0.0</td>\n",
       "      <td>105.0,112.0,118.0,125.0,131.0,137.0,147.0,153....</td>\n",
       "      <td>2,394.03460741333333,425.0,0.0:2,433.04793488,...</td>\n",
       "      <td>NaN</td>\n",
       "    </tr>\n",
       "    <tr>\n",
       "      <th>3</th>\n",
       "      <td>1200.01</td>\n",
       "      <td>Datacenter_1</td>\n",
       "      <td>0</td>\n",
       "      <td>host</td>\n",
       "      <td>True</td>\n",
       "      <td>2</td>\n",
       "      <td>1</td>\n",
       "      <td>6000</td>\n",
       "      <td>2387.365877</td>\n",
       "      <td>3000.0,0.0:3000.0,2387.3658765866667:</td>\n",
       "      <td>4000</td>\n",
       "      <td>3983.0</td>\n",
       "      <td>1000</td>\n",
       "      <td>0.0</td>\n",
       "      <td>105.0,112.0,118.0,125.0,131.0,137.0,147.0,153....</td>\n",
       "      <td>2,394.03460741333333,425.0,0.0:2,433.04793488,...</td>\n",
       "      <td>NaN</td>\n",
       "    </tr>\n",
       "    <tr>\n",
       "      <th>4</th>\n",
       "      <td>1500.01</td>\n",
       "      <td>Datacenter_1</td>\n",
       "      <td>0</td>\n",
       "      <td>host</td>\n",
       "      <td>True</td>\n",
       "      <td>2</td>\n",
       "      <td>1</td>\n",
       "      <td>6000</td>\n",
       "      <td>2387.365877</td>\n",
       "      <td>3000.0,0.0:3000.0,2387.3658765866667:</td>\n",
       "      <td>4000</td>\n",
       "      <td>3983.0</td>\n",
       "      <td>1000</td>\n",
       "      <td>0.0</td>\n",
       "      <td>105.0,112.0,118.0,125.0,131.0,137.0,147.0,153....</td>\n",
       "      <td>2,394.03460741333333,425.0,0.0:2,433.04793488,...</td>\n",
       "      <td>NaN</td>\n",
       "    </tr>\n",
       "  </tbody>\n",
       "</table>\n",
       "</div>"
      ],
      "text/plain": [
       "      time datacenter_name  host_id  type  active  number_of_pes  \\\n",
       "0   300.01    Datacenter_1        0  host    True              2   \n",
       "1   600.01    Datacenter_1        0  host    True              2   \n",
       "2   900.01    Datacenter_1        0  host    True              2   \n",
       "3  1200.01    Datacenter_1        0  host    True              2   \n",
       "4  1500.01    Datacenter_1        0  host    True              2   \n",
       "\n",
       "   available_pes  mips  available_mips                     utilization_per_pe  \\\n",
       "0              1  6000     2387.365877  3000.0,0.0:3000.0,2387.3658765866667:   \n",
       "1              1  6000     2387.365877  3000.0,0.0:3000.0,2387.3658765866667:   \n",
       "2              1  6000     2387.365877  3000.0,0.0:3000.0,2387.3658765866667:   \n",
       "3              1  6000     2387.365877  3000.0,0.0:3000.0,2387.3658765866667:   \n",
       "4              1  6000     2387.365877  3000.0,0.0:3000.0,2387.3658765866667:   \n",
       "\n",
       "    ram  available_ram    bw  available_bw  \\\n",
       "0  4000         3983.0  1000           0.0   \n",
       "1  4000         3983.0  1000           0.0   \n",
       "2  4000         3983.0  1000           0.0   \n",
       "3  4000         3983.0  1000           0.0   \n",
       "4  4000         3983.0  1000           0.0   \n",
       "\n",
       "                                         power_model  \\\n",
       "0  105.0,112.0,118.0,125.0,131.0,137.0,147.0,153....   \n",
       "1  105.0,112.0,118.0,125.0,131.0,137.0,147.0,153....   \n",
       "2  105.0,112.0,118.0,125.0,131.0,137.0,147.0,153....   \n",
       "3  105.0,112.0,118.0,125.0,131.0,137.0,147.0,153....   \n",
       "4  105.0,112.0,118.0,125.0,131.0,137.0,147.0,153....   \n",
       "\n",
       "                                                 vms  Unnamed: 16  \n",
       "0  2,394.03460741333333,425.0,0.0:2,433.04793488,...          NaN  \n",
       "1  2,394.03460741333333,425.0,0.0:2,433.04793488,...          NaN  \n",
       "2  2,394.03460741333333,425.0,0.0:2,433.04793488,...          NaN  \n",
       "3  2,394.03460741333333,425.0,0.0:2,433.04793488,...          NaN  \n",
       "4  2,394.03460741333333,425.0,0.0:2,433.04793488,...          NaN  "
      ]
     },
     "execution_count": 79,
     "metadata": {},
     "output_type": "execute_result"
    }
   ],
   "source": [
    "import pandas as pd\n",
    "import numpy as np\n",
    "import matplotlib as plt\n",
    "\n",
    "dataset = pd.read_csv(\"./data/logfile-v5.csv\", delimiter=\";\")\n",
    "dataset.head()"
   ]
  },
  {
   "cell_type": "code",
   "execution_count": 80,
   "metadata": {},
   "outputs": [
    {
     "data": {
      "text/plain": [
       "1207374"
      ]
     },
     "execution_count": 80,
     "metadata": {},
     "output_type": "execute_result"
    }
   ],
   "source": [
    "dataset.size"
   ]
  },
  {
   "cell_type": "code",
   "execution_count": 81,
   "metadata": {},
   "outputs": [
    {
     "data": {
      "text/plain": [
       "Index(['time', 'datacenter_name', 'host_id', 'type', 'active', 'number_of_pes',\n",
       "       'available_pes', 'mips', 'available_mips', 'utilization_per_pe', 'ram',\n",
       "       'available_ram', 'bw', 'available_bw', 'power_model', 'vms',\n",
       "       'Unnamed: 16'],\n",
       "      dtype='object')"
      ]
     },
     "execution_count": 81,
     "metadata": {},
     "output_type": "execute_result"
    }
   ],
   "source": [
    "dataset.columns"
   ]
  },
  {
   "cell_type": "code",
   "execution_count": 82,
   "metadata": {},
   "outputs": [
    {
     "data": {
      "text/plain": [
       "time                  float64\n",
       "datacenter_name        object\n",
       "host_id                 int64\n",
       "type                   object\n",
       "active                   bool\n",
       "number_of_pes           int64\n",
       "available_pes           int64\n",
       "mips                    int64\n",
       "available_mips        float64\n",
       "utilization_per_pe     object\n",
       "ram                     int64\n",
       "available_ram         float64\n",
       "bw                      int64\n",
       "available_bw          float64\n",
       "power_model            object\n",
       "vms                    object\n",
       "Unnamed: 16           float64\n",
       "dtype: object"
      ]
     },
     "execution_count": 82,
     "metadata": {},
     "output_type": "execute_result"
    }
   ],
   "source": [
    "dataset.dtypes"
   ]
  },
  {
   "cell_type": "code",
   "execution_count": 83,
   "metadata": {},
   "outputs": [
    {
     "name": "stdout",
     "output_type": "stream",
     "text": [
      "Number of null in the dataset: 90435\n",
      "Number of NaN in the dataset: 90435\n"
     ]
    }
   ],
   "source": [
    "print(f\"Number of null in the dataset: {dataset.isnull().sum().sum()}\")\n",
    "print(f\"Number of NaN in the dataset: {dataset.isna().sum().sum()}\")"
   ]
  },
  {
   "cell_type": "code",
   "execution_count": 84,
   "metadata": {},
   "outputs": [
    {
     "name": "stdout",
     "output_type": "stream",
     "text": [
      "Number of null per field: \n",
      "time                      0\n",
      "datacenter_name           0\n",
      "host_id                   0\n",
      "type                      0\n",
      "active                    0\n",
      "number_of_pes             0\n",
      "available_pes             0\n",
      "mips                      0\n",
      "available_mips            0\n",
      "utilization_per_pe        0\n",
      "ram                       0\n",
      "available_ram             0\n",
      "bw                        0\n",
      "available_bw              0\n",
      "power_model               0\n",
      "vms                   19413\n",
      "Unnamed: 16           71022\n",
      "dtype: int64\n",
      "Number of NaN per field: \n",
      "time                      0\n",
      "datacenter_name           0\n",
      "host_id                   0\n",
      "type                      0\n",
      "active                    0\n",
      "number_of_pes             0\n",
      "available_pes             0\n",
      "mips                      0\n",
      "available_mips            0\n",
      "utilization_per_pe        0\n",
      "ram                       0\n",
      "available_ram             0\n",
      "bw                        0\n",
      "available_bw              0\n",
      "power_model               0\n",
      "vms                   19413\n",
      "Unnamed: 16           71022\n",
      "dtype: int64\n"
     ]
    }
   ],
   "source": [
    "print(f\"Number of null per field: \\n{dataset.isnull().sum()}\")\n",
    "print(f\"Number of NaN per field: \\n{dataset.isna().sum()}\")"
   ]
  },
  {
   "cell_type": "code",
   "execution_count": 85,
   "metadata": {},
   "outputs": [
    {
     "name": "stdout",
     "output_type": "stream",
     "text": [
      "Datacenter Datacenter_1 has 1347 hosts.\n",
      "Datacenter Datacenter_2 has 1302 hosts.\n",
      "Datacenter Datacenter_3 has 1077 hosts.\n",
      "Datacenter Datacenter_4 has 1347 hosts.\n"
     ]
    }
   ],
   "source": [
    "labels, values = np.unique(dataset['datacenter_name'], return_counts=True)\n",
    "for i in range(len(labels)):\n",
    "    print(f\"Datacenter {labels[i]} has {int(values[i]/14)} hosts.\")"
   ]
  },
  {
   "cell_type": "code",
   "execution_count": 86,
   "metadata": {},
   "outputs": [
    {
     "name": "stdout",
     "output_type": "stream",
     "text": [
      "There are 71022 of type host.\n"
     ]
    }
   ],
   "source": [
    "labels, values = np.unique(dataset['type'], return_counts=True)\n",
    "for i in range(len(labels)):\n",
    "    print(f\"There are {values[i]} of type {labels[i]}.\")"
   ]
  },
  {
   "cell_type": "markdown",
   "metadata": {},
   "source": [
    "### Storage dataset"
   ]
  },
  {
   "cell_type": "code",
   "execution_count": 87,
   "metadata": {},
   "outputs": [
    {
     "data": {
      "text/html": [
       "<div>\n",
       "<style scoped>\n",
       "    .dataframe tbody tr th:only-of-type {\n",
       "        vertical-align: middle;\n",
       "    }\n",
       "\n",
       "    .dataframe tbody tr th {\n",
       "        vertical-align: top;\n",
       "    }\n",
       "\n",
       "    .dataframe thead th {\n",
       "        text-align: right;\n",
       "    }\n",
       "</style>\n",
       "<table border=\"1\" class=\"dataframe\">\n",
       "  <thead>\n",
       "    <tr style=\"text-align: right;\">\n",
       "      <th></th>\n",
       "      <th>datacenter_id</th>\n",
       "      <th>datacenter_name</th>\n",
       "      <th>datacenter_storage_energy</th>\n",
       "      <th>storage_id</th>\n",
       "      <th>system</th>\n",
       "      <th>storage_capacity</th>\n",
       "      <th>capacity_used</th>\n",
       "      <th>active_duration</th>\n",
       "      <th>idle_intervals</th>\n",
       "      <th>duration</th>\n",
       "      <th>total_energy_active</th>\n",
       "      <th>total_energy_idle</th>\n",
       "      <th>average_rotation_latency</th>\n",
       "      <th>average_seek_Time</th>\n",
       "      <th>max_internal_data_transfer_rate</th>\n",
       "      <th>is_active</th>\n",
       "      <th>idle_power</th>\n",
       "      <th>active_power</th>\n",
       "      <th>files</th>\n",
       "      <th>Unnamed: 19</th>\n",
       "    </tr>\n",
       "  </thead>\n",
       "  <tbody>\n",
       "    <tr>\n",
       "      <th>0</th>\n",
       "      <td>3</td>\n",
       "      <td>Datacenter_1</td>\n",
       "      <td>113716.350085</td>\n",
       "      <td>0</td>\n",
       "      <td>storage</td>\n",
       "      <td>900000.0</td>\n",
       "      <td>144384.0</td>\n",
       "      <td>745.127461</td>\n",
       "      <td>1.0000017892249078:</td>\n",
       "      <td>961.692048</td>\n",
       "      <td>4321.739273</td>\n",
       "      <td>3.000005</td>\n",
       "      <td>0.003</td>\n",
       "      <td>0.004</td>\n",
       "      <td>198.0</td>\n",
       "      <td>False</td>\n",
       "      <td>3.0</td>\n",
       "      <td>5.8</td>\n",
       "      <td>55596,3072,15.519012736963932:1-55848,3072,15....</td>\n",
       "      <td>NaN</td>\n",
       "    </tr>\n",
       "    <tr>\n",
       "      <th>1</th>\n",
       "      <td>3</td>\n",
       "      <td>Datacenter_1</td>\n",
       "      <td>113716.350085</td>\n",
       "      <td>1</td>\n",
       "      <td>storage</td>\n",
       "      <td>900000.0</td>\n",
       "      <td>139776.0</td>\n",
       "      <td>721.881444</td>\n",
       "      <td>1.0000001822594735:</td>\n",
       "      <td>961.692048</td>\n",
       "      <td>4186.912375</td>\n",
       "      <td>3.000001</td>\n",
       "      <td>0.003</td>\n",
       "      <td>0.004</td>\n",
       "      <td>198.0</td>\n",
       "      <td>False</td>\n",
       "      <td>3.0</td>\n",
       "      <td>5.8</td>\n",
       "      <td>3-55896,3072,15.518360641031068:2-572526,2560,...</td>\n",
       "      <td>NaN</td>\n",
       "    </tr>\n",
       "    <tr>\n",
       "      <th>2</th>\n",
       "      <td>3</td>\n",
       "      <td>Datacenter_1</td>\n",
       "      <td>113716.350085</td>\n",
       "      <td>2</td>\n",
       "      <td>storage</td>\n",
       "      <td>900000.0</td>\n",
       "      <td>145408.0</td>\n",
       "      <td>765.796667</td>\n",
       "      <td>1.000000266829021:</td>\n",
       "      <td>961.692048</td>\n",
       "      <td>4441.620671</td>\n",
       "      <td>3.000001</td>\n",
       "      <td>0.003</td>\n",
       "      <td>0.004</td>\n",
       "      <td>198.0</td>\n",
       "      <td>False</td>\n",
       "      <td>3.0</td>\n",
       "      <td>5.8</td>\n",
       "      <td>1-450552,1024,5.183152612866157:6-753921,3072,...</td>\n",
       "      <td>NaN</td>\n",
       "    </tr>\n",
       "    <tr>\n",
       "      <th>3</th>\n",
       "      <td>3</td>\n",
       "      <td>Datacenter_1</td>\n",
       "      <td>113716.350085</td>\n",
       "      <td>3</td>\n",
       "      <td>storage</td>\n",
       "      <td>900000.0</td>\n",
       "      <td>169472.0</td>\n",
       "      <td>954.602773</td>\n",
       "      <td>1.0000002917759447:</td>\n",
       "      <td>961.692048</td>\n",
       "      <td>5536.696084</td>\n",
       "      <td>3.000001</td>\n",
       "      <td>0.003</td>\n",
       "      <td>0.004</td>\n",
       "      <td>198.0</td>\n",
       "      <td>False</td>\n",
       "      <td>3.0</td>\n",
       "      <td>5.8</td>\n",
       "      <td>591399,3072,15.520055166649824:288827,512,2.59...</td>\n",
       "      <td>NaN</td>\n",
       "    </tr>\n",
       "    <tr>\n",
       "      <th>4</th>\n",
       "      <td>3</td>\n",
       "      <td>Datacenter_1</td>\n",
       "      <td>113716.350085</td>\n",
       "      <td>4</td>\n",
       "      <td>storage</td>\n",
       "      <td>900000.0</td>\n",
       "      <td>168448.0</td>\n",
       "      <td>856.300420</td>\n",
       "      <td>1.0000004167879113:</td>\n",
       "      <td>961.692048</td>\n",
       "      <td>4966.542439</td>\n",
       "      <td>3.000001</td>\n",
       "      <td>0.003</td>\n",
       "      <td>0.004</td>\n",
       "      <td>198.0</td>\n",
       "      <td>False</td>\n",
       "      <td>3.0</td>\n",
       "      <td>5.8</td>\n",
       "      <td>25-240840,3072,15.526928354068726:1-878247,102...</td>\n",
       "      <td>NaN</td>\n",
       "    </tr>\n",
       "  </tbody>\n",
       "</table>\n",
       "</div>"
      ],
      "text/plain": [
       "   datacenter_id datacenter_name  datacenter_storage_energy  storage_id  \\\n",
       "0              3    Datacenter_1              113716.350085           0   \n",
       "1              3    Datacenter_1              113716.350085           1   \n",
       "2              3    Datacenter_1              113716.350085           2   \n",
       "3              3    Datacenter_1              113716.350085           3   \n",
       "4              3    Datacenter_1              113716.350085           4   \n",
       "\n",
       "    system  storage_capacity  capacity_used  active_duration  \\\n",
       "0  storage          900000.0       144384.0       745.127461   \n",
       "1  storage          900000.0       139776.0       721.881444   \n",
       "2  storage          900000.0       145408.0       765.796667   \n",
       "3  storage          900000.0       169472.0       954.602773   \n",
       "4  storage          900000.0       168448.0       856.300420   \n",
       "\n",
       "        idle_intervals    duration  total_energy_active  total_energy_idle  \\\n",
       "0  1.0000017892249078:  961.692048          4321.739273           3.000005   \n",
       "1  1.0000001822594735:  961.692048          4186.912375           3.000001   \n",
       "2   1.000000266829021:  961.692048          4441.620671           3.000001   \n",
       "3  1.0000002917759447:  961.692048          5536.696084           3.000001   \n",
       "4  1.0000004167879113:  961.692048          4966.542439           3.000001   \n",
       "\n",
       "   average_rotation_latency  average_seek_Time  \\\n",
       "0                     0.003              0.004   \n",
       "1                     0.003              0.004   \n",
       "2                     0.003              0.004   \n",
       "3                     0.003              0.004   \n",
       "4                     0.003              0.004   \n",
       "\n",
       "   max_internal_data_transfer_rate  is_active  idle_power  active_power  \\\n",
       "0                            198.0      False         3.0           5.8   \n",
       "1                            198.0      False         3.0           5.8   \n",
       "2                            198.0      False         3.0           5.8   \n",
       "3                            198.0      False         3.0           5.8   \n",
       "4                            198.0      False         3.0           5.8   \n",
       "\n",
       "                                               files  Unnamed: 19  \n",
       "0  55596,3072,15.519012736963932:1-55848,3072,15....          NaN  \n",
       "1  3-55896,3072,15.518360641031068:2-572526,2560,...          NaN  \n",
       "2  1-450552,1024,5.183152612866157:6-753921,3072,...          NaN  \n",
       "3  591399,3072,15.520055166649824:288827,512,2.59...          NaN  \n",
       "4  25-240840,3072,15.526928354068726:1-878247,102...          NaN  "
      ]
     },
     "execution_count": 87,
     "metadata": {},
     "output_type": "execute_result"
    }
   ],
   "source": [
    "storage_dataset = pd.read_csv(\"./data/logfile-storage-v4.csv\", delimiter=\";\")\n",
    "storage_dataset.head()"
   ]
  },
  {
   "cell_type": "code",
   "execution_count": 88,
   "metadata": {},
   "outputs": [
    {
     "data": {
      "text/plain": [
       "1200"
      ]
     },
     "execution_count": 88,
     "metadata": {},
     "output_type": "execute_result"
    }
   ],
   "source": [
    "storage_dataset.size"
   ]
  },
  {
   "cell_type": "code",
   "execution_count": 89,
   "metadata": {},
   "outputs": [
    {
     "data": {
      "text/plain": [
       "Index(['datacenter_id', 'datacenter_name', 'datacenter_storage_energy',\n",
       "       'storage_id', 'system', 'storage_capacity', 'capacity_used',\n",
       "       'active_duration', 'idle_intervals', 'duration', 'total_energy_active',\n",
       "       'total_energy_idle', 'average_rotation_latency', 'average_seek_Time',\n",
       "       'max_internal_data_transfer_rate', 'is_active', 'idle_power',\n",
       "       'active_power', 'files', 'Unnamed: 19'],\n",
       "      dtype='object')"
      ]
     },
     "execution_count": 89,
     "metadata": {},
     "output_type": "execute_result"
    }
   ],
   "source": [
    "storage_dataset.columns"
   ]
  },
  {
   "cell_type": "code",
   "execution_count": 90,
   "metadata": {},
   "outputs": [
    {
     "data": {
      "text/plain": [
       "datacenter_id                        int64\n",
       "datacenter_name                     object\n",
       "datacenter_storage_energy          float64\n",
       "storage_id                           int64\n",
       "system                              object\n",
       "storage_capacity                   float64\n",
       "capacity_used                      float64\n",
       "active_duration                    float64\n",
       "idle_intervals                      object\n",
       "duration                           float64\n",
       "total_energy_active                float64\n",
       "total_energy_idle                  float64\n",
       "average_rotation_latency           float64\n",
       "average_seek_Time                  float64\n",
       "max_internal_data_transfer_rate    float64\n",
       "is_active                             bool\n",
       "idle_power                         float64\n",
       "active_power                       float64\n",
       "files                               object\n",
       "Unnamed: 19                        float64\n",
       "dtype: object"
      ]
     },
     "execution_count": 90,
     "metadata": {},
     "output_type": "execute_result"
    }
   ],
   "source": [
    "storage_dataset.dtypes"
   ]
  },
  {
   "cell_type": "code",
   "execution_count": 91,
   "metadata": {},
   "outputs": [
    {
     "name": "stdout",
     "output_type": "stream",
     "text": [
      "Number of null in the dataset: 147\n",
      "Number of NaN in the dataset: 147\n"
     ]
    }
   ],
   "source": [
    "print(f\"Number of null in the dataset: {storage_dataset.isnull().sum().sum()}\")\n",
    "print(f\"Number of NaN in the dataset: {storage_dataset.isna().sum().sum()}\")"
   ]
  },
  {
   "cell_type": "code",
   "execution_count": 92,
   "metadata": {},
   "outputs": [
    {
     "name": "stdout",
     "output_type": "stream",
     "text": [
      "Number of null per field: \n",
      "datacenter_id                       0\n",
      "datacenter_name                     0\n",
      "datacenter_storage_energy           0\n",
      "storage_id                          0\n",
      "system                              0\n",
      "storage_capacity                    0\n",
      "capacity_used                       0\n",
      "active_duration                     0\n",
      "idle_intervals                     45\n",
      "duration                            0\n",
      "total_energy_active                 0\n",
      "total_energy_idle                   0\n",
      "average_rotation_latency            0\n",
      "average_seek_Time                   0\n",
      "max_internal_data_transfer_rate     0\n",
      "is_active                           0\n",
      "idle_power                          0\n",
      "active_power                        0\n",
      "files                              42\n",
      "Unnamed: 19                        60\n",
      "dtype: int64\n",
      "Number of NaN per field: \n",
      "datacenter_id                       0\n",
      "datacenter_name                     0\n",
      "datacenter_storage_energy           0\n",
      "storage_id                          0\n",
      "system                              0\n",
      "storage_capacity                    0\n",
      "capacity_used                       0\n",
      "active_duration                     0\n",
      "idle_intervals                     45\n",
      "duration                            0\n",
      "total_energy_active                 0\n",
      "total_energy_idle                   0\n",
      "average_rotation_latency            0\n",
      "average_seek_Time                   0\n",
      "max_internal_data_transfer_rate     0\n",
      "is_active                           0\n",
      "idle_power                          0\n",
      "active_power                        0\n",
      "files                              42\n",
      "Unnamed: 19                        60\n",
      "dtype: int64\n"
     ]
    }
   ],
   "source": [
    "print(f\"Number of null per field: \\n{storage_dataset.isnull().sum()}\")\n",
    "print(f\"Number of NaN per field: \\n{storage_dataset.isna().sum()}\")"
   ]
  },
  {
   "cell_type": "code",
   "execution_count": 93,
   "metadata": {},
   "outputs": [
    {
     "name": "stdout",
     "output_type": "stream",
     "text": [
      "Datacenter 3 has 1 disk.\n",
      "Datacenter 4 has 1 disk.\n",
      "Datacenter 5 has 1 disk.\n",
      "Datacenter 6 has 1 disk.\n"
     ]
    }
   ],
   "source": [
    "labels, values = np.unique(storage_dataset['datacenter_id'], return_counts=True)\n",
    "for i in range(len(labels)):\n",
    "    print(f\"Datacenter {labels[i]} has {int(values[i]/14)} disk.\")"
   ]
  },
  {
   "cell_type": "code",
   "execution_count": 94,
   "metadata": {},
   "outputs": [],
   "source": [
    "# labels, values = np.unique(storage_dataset['type'], return_counts=True)\n",
    "# for i in range(len(labels)):\n",
    "#     print(f\"There are {values[i]} of type {labels[i]}.\")"
   ]
  },
  {
   "cell_type": "code",
   "execution_count": 95,
   "metadata": {},
   "outputs": [
    {
     "name": "stdout",
     "output_type": "stream",
     "text": [
      "Simulation duration 961.6920478889256s.\n",
      "duration 746.1274626791158s, active duration 745.1274608898908s, idle duration: 1.0000017892249078s.\n",
      "duration 722.8814441854488s, active duration 721.8814440031894s, idle duration: 1.0000001822594735s.\n",
      "duration 766.7966676032497s, active duration 765.7966673364207s, idle duration: 1.000000266829021s.\n",
      "duration 955.6027734597938s, active duration 954.6027731680178s, idle duration: 1.0000002917759447s.\n",
      "duration 857.300420869948s, active duration 856.3004204531601s, idle duration: 1.0000004167879113s.\n",
      "duration 606.135444476963s, active duration 605.1354440117186s, idle duration: 1.0000004652444445s.\n",
      "duration 774.4767387779605s, active duration 773.4767379110183s, idle duration: 1.0000008669421812s.\n",
      "duration 961.6920478889256s, active duration 960.6920469860372s, idle duration: 1.0000009028883063s.\n",
      "duration 897.734437299739s, active duration 896.7344362532269s, idle duration: 1.0000010465121425s.\n",
      "duration 930.9576646501441s, active duration 929.9576635255364s, idle duration: 1.0000011246077447s.\n",
      "duration 675.6699091692825s, active duration 674.6699080183539s, idle duration: 1.00000115092862s.\n",
      "duration 818.5505733327429s, active duration 817.5505719530302s, idle duration: 1.0000013797128078s.\n",
      "duration 842.3293996344162s, active duration 841.3293981500601s, idle duration: 1.0000014843560912s.\n",
      "duration 649.4609599570149s, active duration 648.4609583398627s, idle duration: 1.0000016171521608s.\n",
      "duration 844.7909823898569s, active duration 843.7909806834907s, idle duration: 1.0000017063661977s.\n",
      "duration 0.0s, active duration 0.0s, idle duration: 0s.\n",
      "duration 0.0s, active duration 0.0s, idle duration: 0s.\n",
      "duration 0.0s, active duration 0.0s, idle duration: 0s.\n",
      "duration 0.0s, active duration 0.0s, idle duration: 0s.\n",
      "duration 0.0s, active duration 0.0s, idle duration: 0s.\n",
      "duration 0.0s, active duration 0.0s, idle duration: 0s.\n",
      "duration 0.0s, active duration 0.0s, idle duration: 0s.\n",
      "duration 0.0s, active duration 0.0s, idle duration: 0s.\n",
      "duration 0.0s, active duration 0.0s, idle duration: 0s.\n",
      "duration 0.0s, active duration 0.0s, idle duration: 0s.\n",
      "duration 0.0s, active duration 0.0s, idle duration: 0s.\n",
      "duration 0.0s, active duration 0.0s, idle duration: 0s.\n",
      "duration 0.0s, active duration 0.0s, idle duration: 0s.\n",
      "duration 0.0s, active duration 0.0s, idle duration: 0s.\n",
      "duration 0.0s, active duration 0.0s, idle duration: 0s.\n",
      "duration 0.0s, active duration 0.0s, idle duration: 0s.\n",
      "duration 0.0s, active duration 0.0s, idle duration: 0s.\n",
      "duration 0.0s, active duration 0.0s, idle duration: 0s.\n",
      "duration 0.0s, active duration 0.0s, idle duration: 0s.\n",
      "duration 0.0s, active duration 0.0s, idle duration: 0s.\n",
      "duration 0.0s, active duration 0.0s, idle duration: 0s.\n",
      "duration 0.0s, active duration 0.0s, idle duration: 0s.\n",
      "duration 0.0s, active duration 0.0s, idle duration: 0s.\n",
      "duration 0.0s, active duration 0.0s, idle duration: 0s.\n",
      "duration 0.0s, active duration 0.0s, idle duration: 0s.\n",
      "duration 0.0s, active duration 0.0s, idle duration: 0s.\n",
      "duration 0.0s, active duration 0.0s, idle duration: 0s.\n",
      "duration 0.0s, active duration 0.0s, idle duration: 0s.\n",
      "duration 0.0s, active duration 0.0s, idle duration: 0s.\n",
      "duration 0.0s, active duration 0.0s, idle duration: 0s.\n",
      "duration 0.0s, active duration 0.0s, idle duration: 0s.\n",
      "duration 0.0s, active duration 0.0s, idle duration: 0s.\n",
      "duration 0.0s, active duration 0.0s, idle duration: 0s.\n",
      "duration 0.0s, active duration 0.0s, idle duration: 0s.\n",
      "duration 0.0s, active duration 0.0s, idle duration: 0s.\n",
      "duration 0.0s, active duration 0.0s, idle duration: 0s.\n",
      "duration 0.0s, active duration 0.0s, idle duration: 0s.\n",
      "duration 0.0s, active duration 0.0s, idle duration: 0s.\n",
      "duration 0.0s, active duration 0.0s, idle duration: 0s.\n",
      "duration 0.0s, active duration 0.0s, idle duration: 0s.\n",
      "duration 0.0s, active duration 0.0s, idle duration: 0s.\n",
      "duration 0.0s, active duration 0.0s, idle duration: 0s.\n",
      "duration 0.0s, active duration 0.0s, idle duration: 0s.\n",
      "duration 0.0s, active duration 0.0s, idle duration: 0s.\n",
      "duration 0.0s, active duration 0.0s, idle duration: 0s.\n"
     ]
    }
   ],
   "source": [
    "print(f\"Simulation duration {float(storage_dataset['duration'][0])}s.\")\n",
    "for _, sample in storage_dataset.iterrows():\n",
    "    idle_duration = 0\n",
    "    if pd.notna(sample['idle_intervals']):\n",
    "        for idle_interval in sample['idle_intervals'].split(\":\"):\n",
    "            if idle_interval != '':\n",
    "                idle_duration += float(idle_interval)\n",
    "    print(f\"duration {float(sample['active_duration'])+float(idle_duration)}s, active duration {sample['active_duration']}s, idle duration: {idle_duration}s.\")\n"
   ]
  },
  {
   "cell_type": "markdown",
   "metadata": {},
   "source": [
    "### Network dataset"
   ]
  },
  {
   "cell_type": "code",
   "execution_count": 96,
   "metadata": {},
   "outputs": [
    {
     "data": {
      "text/html": [
       "<div>\n",
       "<style scoped>\n",
       "    .dataframe tbody tr th:only-of-type {\n",
       "        vertical-align: middle;\n",
       "    }\n",
       "\n",
       "    .dataframe tbody tr th {\n",
       "        vertical-align: top;\n",
       "    }\n",
       "\n",
       "    .dataframe thead th {\n",
       "        text-align: right;\n",
       "    }\n",
       "</style>\n",
       "<table border=\"1\" class=\"dataframe\">\n",
       "  <thead>\n",
       "    <tr style=\"text-align: right;\">\n",
       "      <th></th>\n",
       "      <th>datacenter_id</th>\n",
       "      <th>datacenter_name</th>\n",
       "      <th>id</th>\n",
       "      <th>type</th>\n",
       "      <th>role</th>\n",
       "      <th>bandwidth</th>\n",
       "      <th>total_used_bandwidth</th>\n",
       "      <th>traffic_history</th>\n",
       "      <th>ports</th>\n",
       "      <th>duration</th>\n",
       "      <th>power_per_port</th>\n",
       "      <th>low_power</th>\n",
       "      <th>high_power</th>\n",
       "      <th>is_active</th>\n",
       "      <th>Unnamed: 14</th>\n",
       "    </tr>\n",
       "  </thead>\n",
       "  <tbody>\n",
       "    <tr>\n",
       "      <th>0</th>\n",
       "      <td>0</td>\n",
       "      <td>Datacenter_1</td>\n",
       "      <td>0</td>\n",
       "      <td>switch</td>\n",
       "      <td>access switch</td>\n",
       "      <td>5000</td>\n",
       "      <td>4000.0</td>\n",
       "      <td>1000.0:1000.0:1000.0:1000.0:</td>\n",
       "      <td>449,True,113,0,1000,4000.0:0,True,0,0,1000,100...</td>\n",
       "      <td>449.0</td>\n",
       "      <td>15.4</td>\n",
       "      <td>70</td>\n",
       "      <td>71</td>\n",
       "      <td>True</td>\n",
       "      <td>NaN</td>\n",
       "    </tr>\n",
       "    <tr>\n",
       "      <th>1</th>\n",
       "      <td>0</td>\n",
       "      <td>Datacenter_1</td>\n",
       "      <td>1</td>\n",
       "      <td>switch</td>\n",
       "      <td>access switch</td>\n",
       "      <td>5000</td>\n",
       "      <td>4000.0</td>\n",
       "      <td>1000.0:1000.0:1000.0:1000.0:</td>\n",
       "      <td>450,True,113,1,1000,4000.0:4,True,1,4,1000,100...</td>\n",
       "      <td>449.0</td>\n",
       "      <td>15.4</td>\n",
       "      <td>70</td>\n",
       "      <td>71</td>\n",
       "      <td>True</td>\n",
       "      <td>NaN</td>\n",
       "    </tr>\n",
       "    <tr>\n",
       "      <th>2</th>\n",
       "      <td>0</td>\n",
       "      <td>Datacenter_1</td>\n",
       "      <td>2</td>\n",
       "      <td>switch</td>\n",
       "      <td>access switch</td>\n",
       "      <td>5000</td>\n",
       "      <td>4000.0</td>\n",
       "      <td>1000.0:1000.0:1000.0:1000.0:</td>\n",
       "      <td>451,True,113,2,1000,4000.0:8,True,2,8,1000,100...</td>\n",
       "      <td>449.0</td>\n",
       "      <td>15.4</td>\n",
       "      <td>70</td>\n",
       "      <td>71</td>\n",
       "      <td>True</td>\n",
       "      <td>NaN</td>\n",
       "    </tr>\n",
       "    <tr>\n",
       "      <th>3</th>\n",
       "      <td>0</td>\n",
       "      <td>Datacenter_1</td>\n",
       "      <td>3</td>\n",
       "      <td>switch</td>\n",
       "      <td>access switch</td>\n",
       "      <td>5000</td>\n",
       "      <td>4000.0</td>\n",
       "      <td>1000.0:1000.0:1000.0:1000.0:</td>\n",
       "      <td>452,True,113,3,1000,4000.0:12,True,3,12,1000,1...</td>\n",
       "      <td>449.0</td>\n",
       "      <td>15.4</td>\n",
       "      <td>70</td>\n",
       "      <td>71</td>\n",
       "      <td>True</td>\n",
       "      <td>NaN</td>\n",
       "    </tr>\n",
       "    <tr>\n",
       "      <th>4</th>\n",
       "      <td>0</td>\n",
       "      <td>Datacenter_1</td>\n",
       "      <td>4</td>\n",
       "      <td>switch</td>\n",
       "      <td>access switch</td>\n",
       "      <td>5000</td>\n",
       "      <td>4000.0</td>\n",
       "      <td>1000.0:1000.0:1000.0:1000.0:</td>\n",
       "      <td>453,True,114,4,1000,4000.0:16,True,4,16,1000,1...</td>\n",
       "      <td>449.0</td>\n",
       "      <td>15.4</td>\n",
       "      <td>70</td>\n",
       "      <td>71</td>\n",
       "      <td>True</td>\n",
       "      <td>NaN</td>\n",
       "    </tr>\n",
       "  </tbody>\n",
       "</table>\n",
       "</div>"
      ],
      "text/plain": [
       "   datacenter_id datacenter_name  id    type           role  bandwidth  \\\n",
       "0              0    Datacenter_1   0  switch  access switch       5000   \n",
       "1              0    Datacenter_1   1  switch  access switch       5000   \n",
       "2              0    Datacenter_1   2  switch  access switch       5000   \n",
       "3              0    Datacenter_1   3  switch  access switch       5000   \n",
       "4              0    Datacenter_1   4  switch  access switch       5000   \n",
       "\n",
       "   total_used_bandwidth               traffic_history  \\\n",
       "0                4000.0  1000.0:1000.0:1000.0:1000.0:   \n",
       "1                4000.0  1000.0:1000.0:1000.0:1000.0:   \n",
       "2                4000.0  1000.0:1000.0:1000.0:1000.0:   \n",
       "3                4000.0  1000.0:1000.0:1000.0:1000.0:   \n",
       "4                4000.0  1000.0:1000.0:1000.0:1000.0:   \n",
       "\n",
       "                                               ports  duration  \\\n",
       "0  449,True,113,0,1000,4000.0:0,True,0,0,1000,100...     449.0   \n",
       "1  450,True,113,1,1000,4000.0:4,True,1,4,1000,100...     449.0   \n",
       "2  451,True,113,2,1000,4000.0:8,True,2,8,1000,100...     449.0   \n",
       "3  452,True,113,3,1000,4000.0:12,True,3,12,1000,1...     449.0   \n",
       "4  453,True,114,4,1000,4000.0:16,True,4,16,1000,1...     449.0   \n",
       "\n",
       "   power_per_port  low_power  high_power  is_active  Unnamed: 14  \n",
       "0            15.4         70          71       True          NaN  \n",
       "1            15.4         70          71       True          NaN  \n",
       "2            15.4         70          71       True          NaN  \n",
       "3            15.4         70          71       True          NaN  \n",
       "4            15.4         70          71       True          NaN  "
      ]
     },
     "execution_count": 96,
     "metadata": {},
     "output_type": "execute_result"
    }
   ],
   "source": [
    "network_dataset = pd.read_csv(\"./data/logfile-network.csv\", delimiter=\";\")\n",
    "network_dataset.head()"
   ]
  },
  {
   "cell_type": "code",
   "execution_count": 97,
   "metadata": {},
   "outputs": [
    {
     "data": {
      "text/plain": [
       "8475"
      ]
     },
     "execution_count": 97,
     "metadata": {},
     "output_type": "execute_result"
    }
   ],
   "source": [
    "network_dataset.size"
   ]
  },
  {
   "cell_type": "code",
   "execution_count": 98,
   "metadata": {},
   "outputs": [
    {
     "data": {
      "text/plain": [
       "datacenter_id             int64\n",
       "datacenter_name          object\n",
       "id                        int64\n",
       "type                     object\n",
       "role                     object\n",
       "bandwidth                 int64\n",
       "total_used_bandwidth    float64\n",
       "traffic_history          object\n",
       "ports                    object\n",
       "duration                float64\n",
       "power_per_port          float64\n",
       "low_power                 int64\n",
       "high_power                int64\n",
       "is_active                  bool\n",
       "Unnamed: 14             float64\n",
       "dtype: object"
      ]
     },
     "execution_count": 98,
     "metadata": {},
     "output_type": "execute_result"
    }
   ],
   "source": [
    "network_dataset.dtypes"
   ]
  },
  {
   "cell_type": "code",
   "execution_count": 99,
   "metadata": {},
   "outputs": [
    {
     "name": "stdout",
     "output_type": "stream",
     "text": [
      "Number of null in the dataset: 587\n",
      "Number of NaN in the dataset: 587\n"
     ]
    }
   ],
   "source": [
    "print(f\"Number of null in the dataset: {network_dataset.isnull().sum().sum()}\")\n",
    "print(f\"Number of NaN in the dataset: {network_dataset.isna().sum().sum()}\")"
   ]
  },
  {
   "cell_type": "code",
   "execution_count": 100,
   "metadata": {},
   "outputs": [
    {
     "name": "stdout",
     "output_type": "stream",
     "text": [
      "Number of null per field: \n",
      "datacenter_id             0\n",
      "datacenter_name           0\n",
      "id                        0\n",
      "type                      0\n",
      "role                      0\n",
      "bandwidth                 0\n",
      "total_used_bandwidth      0\n",
      "traffic_history          22\n",
      "ports                     0\n",
      "duration                  0\n",
      "power_per_port            0\n",
      "low_power                 0\n",
      "high_power                0\n",
      "is_active                 0\n",
      "Unnamed: 14             565\n",
      "dtype: int64\n",
      "Number of NaN per field: \n",
      "datacenter_id             0\n",
      "datacenter_name           0\n",
      "id                        0\n",
      "type                      0\n",
      "role                      0\n",
      "bandwidth                 0\n",
      "total_used_bandwidth      0\n",
      "traffic_history          22\n",
      "ports                     0\n",
      "duration                  0\n",
      "power_per_port            0\n",
      "low_power                 0\n",
      "high_power                0\n",
      "is_active                 0\n",
      "Unnamed: 14             565\n",
      "dtype: int64\n"
     ]
    }
   ],
   "source": [
    "print(f\"Number of null per field: \\n{network_dataset.isnull().sum()}\")\n",
    "print(f\"Number of NaN per field: \\n{network_dataset.isna().sum()}\")"
   ]
  },
  {
   "cell_type": "code",
   "execution_count": 101,
   "metadata": {},
   "outputs": [
    {
     "name": "stdout",
     "output_type": "stream",
     "text": [
      "Datacenter 0 has 150 switches.\n",
      "Datacenter 1 has 145 switches.\n",
      "Datacenter 2 has 120 switches.\n",
      "Datacenter 3 has 150 switches.\n"
     ]
    }
   ],
   "source": [
    "labels, values = np.unique(network_dataset['datacenter_id'], return_counts=True)\n",
    "for i in range(len(labels)):\n",
    "    print(f\"Datacenter {labels[i]} has {int(values[i])} switches.\")"
   ]
  },
  {
   "cell_type": "code",
   "execution_count": 102,
   "metadata": {},
   "outputs": [
    {
     "name": "stdout",
     "output_type": "stream",
     "text": [
      "There are 565 of type switch.\n"
     ]
    }
   ],
   "source": [
    "labels, values = np.unique(network_dataset['type'], return_counts=True)\n",
    "for i in range(len(labels)):\n",
    "    print(f\"There are {values[i]} of type {labels[i]}.\")"
   ]
  },
  {
   "cell_type": "code",
   "execution_count": 103,
   "metadata": {},
   "outputs": [
    {
     "name": "stdout",
     "output_type": "stream",
     "text": [
      "Simulation duration 449.0s.\n"
     ]
    }
   ],
   "source": [
    "print(f\"Simulation duration {network_dataset['duration'][0]}s.\")"
   ]
  },
  {
   "cell_type": "code",
   "execution_count": null,
   "metadata": {},
   "outputs": [],
   "source": []
  }
 ],
 "metadata": {
  "kernelspec": {
   "display_name": "Python 3",
   "language": "python",
   "name": "python3"
  },
  "language_info": {
   "codemirror_mode": {
    "name": "ipython",
    "version": 3
   },
   "file_extension": ".py",
   "mimetype": "text/x-python",
   "name": "python",
   "nbconvert_exporter": "python",
   "pygments_lexer": "ipython3",
   "version": "3.10.12"
  }
 },
 "nbformat": 4,
 "nbformat_minor": 2
}
