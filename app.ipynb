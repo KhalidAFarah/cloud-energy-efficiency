{
 "cells": [
  {
   "cell_type": "code",
   "execution_count": 56,
   "metadata": {},
   "outputs": [
    {
     "data": {
      "text/html": [
       "<div>\n",
       "<style scoped>\n",
       "    .dataframe tbody tr th:only-of-type {\n",
       "        vertical-align: middle;\n",
       "    }\n",
       "\n",
       "    .dataframe tbody tr th {\n",
       "        vertical-align: top;\n",
       "    }\n",
       "\n",
       "    .dataframe thead th {\n",
       "        text-align: right;\n",
       "    }\n",
       "</style>\n",
       "<table border=\"1\" class=\"dataframe\">\n",
       "  <thead>\n",
       "    <tr style=\"text-align: right;\">\n",
       "      <th></th>\n",
       "      <th>time</th>\n",
       "      <th>datacenter_id</th>\n",
       "      <th>datacenter_name</th>\n",
       "      <th>host_id</th>\n",
       "      <th>type</th>\n",
       "      <th>active</th>\n",
       "      <th>number_of_pes</th>\n",
       "      <th>available_pes</th>\n",
       "      <th>mips</th>\n",
       "      <th>available_mips</th>\n",
       "      <th>...</th>\n",
       "      <th>frequency_range</th>\n",
       "      <th>voltage_range</th>\n",
       "      <th>ram</th>\n",
       "      <th>available_ram</th>\n",
       "      <th>bw</th>\n",
       "      <th>available_bw</th>\n",
       "      <th>storage</th>\n",
       "      <th>available_storage</th>\n",
       "      <th>power_model</th>\n",
       "      <th>vms</th>\n",
       "    </tr>\n",
       "  </thead>\n",
       "  <tbody>\n",
       "    <tr>\n",
       "      <th>0</th>\n",
       "      <td>300.01</td>\n",
       "      <td>2</td>\n",
       "      <td>Datacenter_1</td>\n",
       "      <td>0</td>\n",
       "      <td>host</td>\n",
       "      <td>True</td>\n",
       "      <td>2</td>\n",
       "      <td>0</td>\n",
       "      <td>6000</td>\n",
       "      <td>2387.365877</td>\n",
       "      <td>...</td>\n",
       "      <td>NaN</td>\n",
       "      <td>1.200-1.3375</td>\n",
       "      <td>4000</td>\n",
       "      <td>17.0</td>\n",
       "      <td>10000</td>\n",
       "      <td>9838.0</td>\n",
       "      <td>160000</td>\n",
       "      <td>151000.0</td>\n",
       "      <td>105.0,112.0,118.0,125.0,131.0,137.0,147.0,153....</td>\n",
       "      <td>2,394.03460741333333,425.0,20.0:2,433.04793488...</td>\n",
       "    </tr>\n",
       "    <tr>\n",
       "      <th>1</th>\n",
       "      <td>600.01</td>\n",
       "      <td>2</td>\n",
       "      <td>Datacenter_1</td>\n",
       "      <td>0</td>\n",
       "      <td>host</td>\n",
       "      <td>True</td>\n",
       "      <td>2</td>\n",
       "      <td>0</td>\n",
       "      <td>6000</td>\n",
       "      <td>2387.365877</td>\n",
       "      <td>...</td>\n",
       "      <td>NaN</td>\n",
       "      <td>1.200-1.3375</td>\n",
       "      <td>4000</td>\n",
       "      <td>17.0</td>\n",
       "      <td>10000</td>\n",
       "      <td>9838.0</td>\n",
       "      <td>160000</td>\n",
       "      <td>151000.0</td>\n",
       "      <td>105.0,112.0,118.0,125.0,131.0,137.0,147.0,153....</td>\n",
       "      <td>2,394.03460741333333,425.0,20.0:2,433.04793488...</td>\n",
       "    </tr>\n",
       "    <tr>\n",
       "      <th>2</th>\n",
       "      <td>900.01</td>\n",
       "      <td>2</td>\n",
       "      <td>Datacenter_1</td>\n",
       "      <td>0</td>\n",
       "      <td>host</td>\n",
       "      <td>True</td>\n",
       "      <td>2</td>\n",
       "      <td>0</td>\n",
       "      <td>6000</td>\n",
       "      <td>2387.365877</td>\n",
       "      <td>...</td>\n",
       "      <td>NaN</td>\n",
       "      <td>1.200-1.3375</td>\n",
       "      <td>4000</td>\n",
       "      <td>17.0</td>\n",
       "      <td>10000</td>\n",
       "      <td>9838.0</td>\n",
       "      <td>160000</td>\n",
       "      <td>151000.0</td>\n",
       "      <td>105.0,112.0,118.0,125.0,131.0,137.0,147.0,153....</td>\n",
       "      <td>2,394.03460741333333,425.0,20.0:2,433.04793488...</td>\n",
       "    </tr>\n",
       "    <tr>\n",
       "      <th>3</th>\n",
       "      <td>1200.01</td>\n",
       "      <td>2</td>\n",
       "      <td>Datacenter_1</td>\n",
       "      <td>0</td>\n",
       "      <td>host</td>\n",
       "      <td>True</td>\n",
       "      <td>2</td>\n",
       "      <td>0</td>\n",
       "      <td>6000</td>\n",
       "      <td>2387.365877</td>\n",
       "      <td>...</td>\n",
       "      <td>NaN</td>\n",
       "      <td>1.200-1.3375</td>\n",
       "      <td>4000</td>\n",
       "      <td>17.0</td>\n",
       "      <td>10000</td>\n",
       "      <td>9838.0</td>\n",
       "      <td>160000</td>\n",
       "      <td>151000.0</td>\n",
       "      <td>105.0,112.0,118.0,125.0,131.0,137.0,147.0,153....</td>\n",
       "      <td>2,394.03460741333333,425.0,20.0:2,433.04793488...</td>\n",
       "    </tr>\n",
       "    <tr>\n",
       "      <th>4</th>\n",
       "      <td>1500.01</td>\n",
       "      <td>2</td>\n",
       "      <td>Datacenter_1</td>\n",
       "      <td>0</td>\n",
       "      <td>host</td>\n",
       "      <td>True</td>\n",
       "      <td>2</td>\n",
       "      <td>0</td>\n",
       "      <td>6000</td>\n",
       "      <td>2387.365877</td>\n",
       "      <td>...</td>\n",
       "      <td>NaN</td>\n",
       "      <td>1.200-1.3375</td>\n",
       "      <td>4000</td>\n",
       "      <td>17.0</td>\n",
       "      <td>10000</td>\n",
       "      <td>9838.0</td>\n",
       "      <td>160000</td>\n",
       "      <td>151000.0</td>\n",
       "      <td>105.0,112.0,118.0,125.0,131.0,137.0,147.0,153....</td>\n",
       "      <td>2,394.03460741333333,425.0,20.0:2,433.04793488...</td>\n",
       "    </tr>\n",
       "  </tbody>\n",
       "</table>\n",
       "<p>5 rows × 22 columns</p>\n",
       "</div>"
      ],
      "text/plain": [
       "      time  datacenter_id datacenter_name  host_id  type  active  \\\n",
       "0   300.01              2    Datacenter_1        0  host    True   \n",
       "1   600.01              2    Datacenter_1        0  host    True   \n",
       "2   900.01              2    Datacenter_1        0  host    True   \n",
       "3  1200.01              2    Datacenter_1        0  host    True   \n",
       "4  1500.01              2    Datacenter_1        0  host    True   \n",
       "\n",
       "   number_of_pes  available_pes  mips  available_mips  ... frequency_range  \\\n",
       "0              2              0  6000     2387.365877  ...             NaN   \n",
       "1              2              0  6000     2387.365877  ...             NaN   \n",
       "2              2              0  6000     2387.365877  ...             NaN   \n",
       "3              2              0  6000     2387.365877  ...             NaN   \n",
       "4              2              0  6000     2387.365877  ...             NaN   \n",
       "\n",
       "   voltage_range   ram available_ram     bw  available_bw  storage  \\\n",
       "0   1.200-1.3375  4000          17.0  10000        9838.0   160000   \n",
       "1   1.200-1.3375  4000          17.0  10000        9838.0   160000   \n",
       "2   1.200-1.3375  4000          17.0  10000        9838.0   160000   \n",
       "3   1.200-1.3375  4000          17.0  10000        9838.0   160000   \n",
       "4   1.200-1.3375  4000          17.0  10000        9838.0   160000   \n",
       "\n",
       "   available_storage                                        power_model  \\\n",
       "0           151000.0  105.0,112.0,118.0,125.0,131.0,137.0,147.0,153....   \n",
       "1           151000.0  105.0,112.0,118.0,125.0,131.0,137.0,147.0,153....   \n",
       "2           151000.0  105.0,112.0,118.0,125.0,131.0,137.0,147.0,153....   \n",
       "3           151000.0  105.0,112.0,118.0,125.0,131.0,137.0,147.0,153....   \n",
       "4           151000.0  105.0,112.0,118.0,125.0,131.0,137.0,147.0,153....   \n",
       "\n",
       "                                                 vms  \n",
       "0  2,394.03460741333333,425.0,20.0:2,433.04793488...  \n",
       "1  2,394.03460741333333,425.0,20.0:2,433.04793488...  \n",
       "2  2,394.03460741333333,425.0,20.0:2,433.04793488...  \n",
       "3  2,394.03460741333333,425.0,20.0:2,433.04793488...  \n",
       "4  2,394.03460741333333,425.0,20.0:2,433.04793488...  \n",
       "\n",
       "[5 rows x 22 columns]"
      ]
     },
     "execution_count": 56,
     "metadata": {},
     "output_type": "execute_result"
    }
   ],
   "source": [
    "import pandas as pd\n",
    "import numpy as np\n",
    "import matplotlib.pyplot as plt\n",
    "\n",
    "dataset = pd.read_csv(\"./data/logfile-v10.csv\", delimiter=\";\")\n",
    "dataset.head()"
   ]
  },
  {
   "cell_type": "code",
   "execution_count": 57,
   "metadata": {},
   "outputs": [
    {
     "data": {
      "text/plain": [
       "970200"
      ]
     },
     "execution_count": 57,
     "metadata": {},
     "output_type": "execute_result"
    }
   ],
   "source": [
    "dataset.size"
   ]
  },
  {
   "cell_type": "code",
   "execution_count": 58,
   "metadata": {},
   "outputs": [
    {
     "data": {
      "text/plain": [
       "Index(['time', 'datacenter_id', 'datacenter_name', 'host_id', 'type', 'active',\n",
       "       'number_of_pes', 'available_pes', 'mips', 'available_mips',\n",
       "       'utilization_per_pe', 'dvfs_available', 'frequency_range',\n",
       "       'voltage_range', 'ram', 'available_ram', 'bw', 'available_bw',\n",
       "       'storage', 'available_storage', 'power_model', 'vms'],\n",
       "      dtype='object')"
      ]
     },
     "execution_count": 58,
     "metadata": {},
     "output_type": "execute_result"
    }
   ],
   "source": [
    "dataset.columns"
   ]
  },
  {
   "cell_type": "code",
   "execution_count": 59,
   "metadata": {},
   "outputs": [
    {
     "data": {
      "text/plain": [
       "time                  float64\n",
       "datacenter_id           int64\n",
       "datacenter_name        object\n",
       "host_id                 int64\n",
       "type                   object\n",
       "active                   bool\n",
       "number_of_pes           int64\n",
       "available_pes           int64\n",
       "mips                    int64\n",
       "available_mips        float64\n",
       "utilization_per_pe     object\n",
       "dvfs_available           bool\n",
       "frequency_range        object\n",
       "voltage_range          object\n",
       "ram                     int64\n",
       "available_ram         float64\n",
       "bw                      int64\n",
       "available_bw          float64\n",
       "storage                 int64\n",
       "available_storage     float64\n",
       "power_model            object\n",
       "vms                    object\n",
       "dtype: object"
      ]
     },
     "execution_count": 59,
     "metadata": {},
     "output_type": "execute_result"
    }
   ],
   "source": [
    "dataset.dtypes"
   ]
  },
  {
   "cell_type": "code",
   "execution_count": 60,
   "metadata": {},
   "outputs": [
    {
     "name": "stdout",
     "output_type": "stream",
     "text": [
      "Number of null in the dataset: 43638\n",
      "Number of NaN in the dataset: 43638\n"
     ]
    }
   ],
   "source": [
    "print(f\"Number of null in the dataset: {dataset.isnull().sum().sum()}\")\n",
    "print(f\"Number of NaN in the dataset: {dataset.isna().sum().sum()}\")"
   ]
  },
  {
   "cell_type": "code",
   "execution_count": 61,
   "metadata": {},
   "outputs": [
    {
     "name": "stdout",
     "output_type": "stream",
     "text": [
      "Number of null per field: \n",
      "time                      0\n",
      "datacenter_id             0\n",
      "datacenter_name           0\n",
      "host_id                   0\n",
      "type                      0\n",
      "active                    0\n",
      "number_of_pes             0\n",
      "available_pes             0\n",
      "mips                      0\n",
      "available_mips            0\n",
      "utilization_per_pe        0\n",
      "dvfs_available            0\n",
      "frequency_range       38640\n",
      "voltage_range             0\n",
      "ram                       0\n",
      "available_ram             0\n",
      "bw                        0\n",
      "available_bw              0\n",
      "storage                   0\n",
      "available_storage         0\n",
      "power_model               0\n",
      "vms                    4998\n",
      "dtype: int64\n",
      "Number of NaN per field: \n",
      "time                      0\n",
      "datacenter_id             0\n",
      "datacenter_name           0\n",
      "host_id                   0\n",
      "type                      0\n",
      "active                    0\n",
      "number_of_pes             0\n",
      "available_pes             0\n",
      "mips                      0\n",
      "available_mips            0\n",
      "utilization_per_pe        0\n",
      "dvfs_available            0\n",
      "frequency_range       38640\n",
      "voltage_range             0\n",
      "ram                       0\n",
      "available_ram             0\n",
      "bw                        0\n",
      "available_bw              0\n",
      "storage                   0\n",
      "available_storage         0\n",
      "power_model               0\n",
      "vms                    4998\n",
      "dtype: int64\n"
     ]
    }
   ],
   "source": [
    "print(f\"Number of null per field: \\n{dataset.isnull().sum()}\")\n",
    "print(f\"Number of NaN per field: \\n{dataset.isna().sum()}\")"
   ]
  },
  {
   "cell_type": "code",
   "execution_count": 62,
   "metadata": {},
   "outputs": [
    {
     "name": "stdout",
     "output_type": "stream",
     "text": [
      "Datacenter Datacenter_1 has 400 hosts.\n",
      "Datacenter Datacenter_2 has 185 hosts.\n",
      "Datacenter Datacenter_3 has 190 hosts.\n",
      "Datacenter Datacenter_4 has 275 hosts.\n"
     ]
    }
   ],
   "source": [
    "labels, values = np.unique(dataset['datacenter_name'], return_counts=True)\n",
    "labels2, values2 = np.unique(dataset['time'], return_counts=True)\n",
    "for i in range(len(labels)):\n",
    "    print(f\"Datacenter {labels[i]} has {int(values[i]/len(values2))} hosts.\")"
   ]
  },
  {
   "cell_type": "code",
   "execution_count": 63,
   "metadata": {},
   "outputs": [
    {
     "name": "stdout",
     "output_type": "stream",
     "text": [
      "There are 44100 of type host.\n"
     ]
    }
   ],
   "source": [
    "labels, values = np.unique(dataset['type'], return_counts=True)\n",
    "for i in range(len(labels)):\n",
    "    print(f\"There are {values[i]} of type {labels[i]}.\")"
   ]
  },
  {
   "cell_type": "markdown",
   "metadata": {},
   "source": [
    "### Storage dataset"
   ]
  },
  {
   "cell_type": "code",
   "execution_count": 64,
   "metadata": {},
   "outputs": [
    {
     "data": {
      "text/html": [
       "<div>\n",
       "<style scoped>\n",
       "    .dataframe tbody tr th:only-of-type {\n",
       "        vertical-align: middle;\n",
       "    }\n",
       "\n",
       "    .dataframe tbody tr th {\n",
       "        vertical-align: top;\n",
       "    }\n",
       "\n",
       "    .dataframe thead th {\n",
       "        text-align: right;\n",
       "    }\n",
       "</style>\n",
       "<table border=\"1\" class=\"dataframe\">\n",
       "  <thead>\n",
       "    <tr style=\"text-align: right;\">\n",
       "      <th></th>\n",
       "      <th>datacenter_id</th>\n",
       "      <th>datacenter_name</th>\n",
       "      <th>datacenter_storage_energy</th>\n",
       "      <th>storage_id</th>\n",
       "      <th>system</th>\n",
       "      <th>storage_capacity</th>\n",
       "      <th>capacity_used</th>\n",
       "      <th>active_duration</th>\n",
       "      <th>idle_intervals</th>\n",
       "      <th>duration</th>\n",
       "      <th>total_energy_active</th>\n",
       "      <th>total_energy_idle</th>\n",
       "      <th>average_rotation_latency</th>\n",
       "      <th>average_seek_Time</th>\n",
       "      <th>max_internal_data_transfer_rate</th>\n",
       "      <th>is_active</th>\n",
       "      <th>idle_power</th>\n",
       "      <th>active_power</th>\n",
       "      <th>files</th>\n",
       "      <th>Unnamed: 19</th>\n",
       "    </tr>\n",
       "  </thead>\n",
       "  <tbody>\n",
       "    <tr>\n",
       "      <th>0</th>\n",
       "      <td>3</td>\n",
       "      <td>Datacenter_1</td>\n",
       "      <td>4.099681e+06</td>\n",
       "      <td>0</td>\n",
       "      <td>storage</td>\n",
       "      <td>900000.0</td>\n",
       "      <td>899584.0</td>\n",
       "      <td>4635.372761</td>\n",
       "      <td>1.0000003378537212:</td>\n",
       "      <td>9447.595287</td>\n",
       "      <td>26885.162012</td>\n",
       "      <td>3.000001</td>\n",
       "      <td>0.003</td>\n",
       "      <td>0.004</td>\n",
       "      <td>198.0</td>\n",
       "      <td>False</td>\n",
       "      <td>3.0</td>\n",
       "      <td>5.8</td>\n",
       "      <td>55596,3072,15.524809784082704:450990,1024,5.18...</td>\n",
       "      <td>NaN</td>\n",
       "    </tr>\n",
       "    <tr>\n",
       "      <th>1</th>\n",
       "      <td>3</td>\n",
       "      <td>Datacenter_1</td>\n",
       "      <td>4.099681e+06</td>\n",
       "      <td>1</td>\n",
       "      <td>storage</td>\n",
       "      <td>900000.0</td>\n",
       "      <td>899584.0</td>\n",
       "      <td>4552.153376</td>\n",
       "      <td>1.0000000057506384:</td>\n",
       "      <td>9447.595287</td>\n",
       "      <td>26402.489581</td>\n",
       "      <td>3.000000</td>\n",
       "      <td>0.003</td>\n",
       "      <td>0.004</td>\n",
       "      <td>198.0</td>\n",
       "      <td>False</td>\n",
       "      <td>3.0</td>\n",
       "      <td>5.8</td>\n",
       "      <td>1002363,1024,5.178738666087011:287333,512,2.59...</td>\n",
       "      <td>NaN</td>\n",
       "    </tr>\n",
       "    <tr>\n",
       "      <th>2</th>\n",
       "      <td>3</td>\n",
       "      <td>Datacenter_1</td>\n",
       "      <td>4.099681e+06</td>\n",
       "      <td>2</td>\n",
       "      <td>storage</td>\n",
       "      <td>900000.0</td>\n",
       "      <td>899584.0</td>\n",
       "      <td>4712.463046</td>\n",
       "      <td>1.0000000137015315:</td>\n",
       "      <td>9447.595287</td>\n",
       "      <td>27332.285668</td>\n",
       "      <td>3.000000</td>\n",
       "      <td>0.003</td>\n",
       "      <td>0.004</td>\n",
       "      <td>198.0</td>\n",
       "      <td>False</td>\n",
       "      <td>3.0</td>\n",
       "      <td>5.8</td>\n",
       "      <td>3-6852,8192,41.38862101694565:24-285602,512,2....</td>\n",
       "      <td>NaN</td>\n",
       "    </tr>\n",
       "    <tr>\n",
       "      <th>3</th>\n",
       "      <td>3</td>\n",
       "      <td>Datacenter_1</td>\n",
       "      <td>4.099681e+06</td>\n",
       "      <td>3</td>\n",
       "      <td>storage</td>\n",
       "      <td>900000.0</td>\n",
       "      <td>899584.0</td>\n",
       "      <td>4924.857340</td>\n",
       "      <td>1.0000000205963306:</td>\n",
       "      <td>9447.595287</td>\n",
       "      <td>28564.172570</td>\n",
       "      <td>3.000000</td>\n",
       "      <td>0.003</td>\n",
       "      <td>0.004</td>\n",
       "      <td>198.0</td>\n",
       "      <td>False</td>\n",
       "      <td>3.0</td>\n",
       "      <td>5.8</td>\n",
       "      <td>303602,3584,18.10363760760568:1-591519,3072,15...</td>\n",
       "      <td>NaN</td>\n",
       "    </tr>\n",
       "    <tr>\n",
       "      <th>4</th>\n",
       "      <td>3</td>\n",
       "      <td>Datacenter_1</td>\n",
       "      <td>4.099681e+06</td>\n",
       "      <td>4</td>\n",
       "      <td>storage</td>\n",
       "      <td>900000.0</td>\n",
       "      <td>899584.0</td>\n",
       "      <td>4813.303893</td>\n",
       "      <td>1.000000024323157:</td>\n",
       "      <td>9447.595287</td>\n",
       "      <td>27917.162579</td>\n",
       "      <td>3.000000</td>\n",
       "      <td>0.003</td>\n",
       "      <td>0.004</td>\n",
       "      <td>198.0</td>\n",
       "      <td>False</td>\n",
       "      <td>3.0</td>\n",
       "      <td>5.8</td>\n",
       "      <td>2-878359,1024,5.1852412125875285:2-1002249,102...</td>\n",
       "      <td>NaN</td>\n",
       "    </tr>\n",
       "  </tbody>\n",
       "</table>\n",
       "</div>"
      ],
      "text/plain": [
       "   datacenter_id datacenter_name  datacenter_storage_energy  storage_id  \\\n",
       "0              3    Datacenter_1               4.099681e+06           0   \n",
       "1              3    Datacenter_1               4.099681e+06           1   \n",
       "2              3    Datacenter_1               4.099681e+06           2   \n",
       "3              3    Datacenter_1               4.099681e+06           3   \n",
       "4              3    Datacenter_1               4.099681e+06           4   \n",
       "\n",
       "    system  storage_capacity  capacity_used  active_duration  \\\n",
       "0  storage          900000.0       899584.0      4635.372761   \n",
       "1  storage          900000.0       899584.0      4552.153376   \n",
       "2  storage          900000.0       899584.0      4712.463046   \n",
       "3  storage          900000.0       899584.0      4924.857340   \n",
       "4  storage          900000.0       899584.0      4813.303893   \n",
       "\n",
       "        idle_intervals     duration  total_energy_active  total_energy_idle  \\\n",
       "0  1.0000003378537212:  9447.595287         26885.162012           3.000001   \n",
       "1  1.0000000057506384:  9447.595287         26402.489581           3.000000   \n",
       "2  1.0000000137015315:  9447.595287         27332.285668           3.000000   \n",
       "3  1.0000000205963306:  9447.595287         28564.172570           3.000000   \n",
       "4   1.000000024323157:  9447.595287         27917.162579           3.000000   \n",
       "\n",
       "   average_rotation_latency  average_seek_Time  \\\n",
       "0                     0.003              0.004   \n",
       "1                     0.003              0.004   \n",
       "2                     0.003              0.004   \n",
       "3                     0.003              0.004   \n",
       "4                     0.003              0.004   \n",
       "\n",
       "   max_internal_data_transfer_rate  is_active  idle_power  active_power  \\\n",
       "0                            198.0      False         3.0           5.8   \n",
       "1                            198.0      False         3.0           5.8   \n",
       "2                            198.0      False         3.0           5.8   \n",
       "3                            198.0      False         3.0           5.8   \n",
       "4                            198.0      False         3.0           5.8   \n",
       "\n",
       "                                               files  Unnamed: 19  \n",
       "0  55596,3072,15.524809784082704:450990,1024,5.18...          NaN  \n",
       "1  1002363,1024,5.178738666087011:287333,512,2.59...          NaN  \n",
       "2  3-6852,8192,41.38862101694565:24-285602,512,2....          NaN  \n",
       "3  303602,3584,18.10363760760568:1-591519,3072,15...          NaN  \n",
       "4  2-878359,1024,5.1852412125875285:2-1002249,102...          NaN  "
      ]
     },
     "execution_count": 64,
     "metadata": {},
     "output_type": "execute_result"
    }
   ],
   "source": [
    "storage_dataset = pd.read_csv(\"./data/logfile-storage-v5.csv\", delimiter=\";\")\n",
    "storage_dataset.head()"
   ]
  },
  {
   "cell_type": "code",
   "execution_count": 65,
   "metadata": {},
   "outputs": [
    {
     "data": {
      "text/plain": [
       "1220"
      ]
     },
     "execution_count": 65,
     "metadata": {},
     "output_type": "execute_result"
    }
   ],
   "source": [
    "storage_dataset.size"
   ]
  },
  {
   "cell_type": "code",
   "execution_count": 66,
   "metadata": {},
   "outputs": [
    {
     "data": {
      "text/plain": [
       "Index(['datacenter_id', 'datacenter_name', 'datacenter_storage_energy',\n",
       "       'storage_id', 'system', 'storage_capacity', 'capacity_used',\n",
       "       'active_duration', 'idle_intervals', 'duration', 'total_energy_active',\n",
       "       'total_energy_idle', 'average_rotation_latency', 'average_seek_Time',\n",
       "       'max_internal_data_transfer_rate', 'is_active', 'idle_power',\n",
       "       'active_power', 'files', 'Unnamed: 19'],\n",
       "      dtype='object')"
      ]
     },
     "execution_count": 66,
     "metadata": {},
     "output_type": "execute_result"
    }
   ],
   "source": [
    "storage_dataset.columns"
   ]
  },
  {
   "cell_type": "code",
   "execution_count": 67,
   "metadata": {},
   "outputs": [
    {
     "data": {
      "text/plain": [
       "datacenter_id                        int64\n",
       "datacenter_name                     object\n",
       "datacenter_storage_energy          float64\n",
       "storage_id                           int64\n",
       "system                              object\n",
       "storage_capacity                   float64\n",
       "capacity_used                      float64\n",
       "active_duration                    float64\n",
       "idle_intervals                      object\n",
       "duration                           float64\n",
       "total_energy_active                float64\n",
       "total_energy_idle                  float64\n",
       "average_rotation_latency           float64\n",
       "average_seek_Time                  float64\n",
       "max_internal_data_transfer_rate    float64\n",
       "is_active                             bool\n",
       "idle_power                         float64\n",
       "active_power                       float64\n",
       "files                               object\n",
       "Unnamed: 19                        float64\n",
       "dtype: object"
      ]
     },
     "execution_count": 67,
     "metadata": {},
     "output_type": "execute_result"
    }
   ],
   "source": [
    "storage_dataset.dtypes"
   ]
  },
  {
   "cell_type": "code",
   "execution_count": 68,
   "metadata": {},
   "outputs": [
    {
     "name": "stdout",
     "output_type": "stream",
     "text": [
      "Number of null in the dataset: 61\n",
      "Number of NaN in the dataset: 61\n"
     ]
    }
   ],
   "source": [
    "print(f\"Number of null in the dataset: {storage_dataset.isnull().sum().sum()}\")\n",
    "print(f\"Number of NaN in the dataset: {storage_dataset.isna().sum().sum()}\")"
   ]
  },
  {
   "cell_type": "code",
   "execution_count": 69,
   "metadata": {},
   "outputs": [
    {
     "name": "stdout",
     "output_type": "stream",
     "text": [
      "Number of null per field: \n",
      "datacenter_id                       0\n",
      "datacenter_name                     0\n",
      "datacenter_storage_energy           0\n",
      "storage_id                          0\n",
      "system                              0\n",
      "storage_capacity                    0\n",
      "capacity_used                       0\n",
      "active_duration                     0\n",
      "idle_intervals                      0\n",
      "duration                            0\n",
      "total_energy_active                 0\n",
      "total_energy_idle                   0\n",
      "average_rotation_latency            0\n",
      "average_seek_Time                   0\n",
      "max_internal_data_transfer_rate     0\n",
      "is_active                           0\n",
      "idle_power                          0\n",
      "active_power                        0\n",
      "files                               0\n",
      "Unnamed: 19                        61\n",
      "dtype: int64\n",
      "Number of NaN per field: \n",
      "datacenter_id                       0\n",
      "datacenter_name                     0\n",
      "datacenter_storage_energy           0\n",
      "storage_id                          0\n",
      "system                              0\n",
      "storage_capacity                    0\n",
      "capacity_used                       0\n",
      "active_duration                     0\n",
      "idle_intervals                      0\n",
      "duration                            0\n",
      "total_energy_active                 0\n",
      "total_energy_idle                   0\n",
      "average_rotation_latency            0\n",
      "average_seek_Time                   0\n",
      "max_internal_data_transfer_rate     0\n",
      "is_active                           0\n",
      "idle_power                          0\n",
      "active_power                        0\n",
      "files                               0\n",
      "Unnamed: 19                        61\n",
      "dtype: int64\n"
     ]
    }
   ],
   "source": [
    "print(f\"Number of null per field: \\n{storage_dataset.isnull().sum()}\")\n",
    "print(f\"Number of NaN per field: \\n{storage_dataset.isna().sum()}\")"
   ]
  },
  {
   "cell_type": "code",
   "execution_count": 81,
   "metadata": {},
   "outputs": [
    {
     "name": "stdout",
     "output_type": "stream",
     "text": [
      "Datacenter Datacenter_1 has 19 disk.\n",
      "Datacenter Datacenter_2 has 14 disk.\n",
      "Datacenter Datacenter_3 has 14 disk.\n",
      "Datacenter Datacenter_4 has 14 disk.\n"
     ]
    }
   ],
   "source": [
    "labels, values = np.unique(storage_dataset['datacenter_name'], return_counts=True)\n",
    "for i in range(len(labels)):\n",
    "    print(f\"Datacenter {labels[i]} has {values[i]} disk.\")"
   ]
  },
  {
   "cell_type": "code",
   "execution_count": 71,
   "metadata": {},
   "outputs": [],
   "source": [
    "# labels, values = np.unique(storage_dataset['type'], return_counts=True)\n",
    "# for i in range(len(labels)):\n",
    "#     print(f\"There are {values[i]} of type {labels[i]}.\")"
   ]
  },
  {
   "cell_type": "code",
   "execution_count": 72,
   "metadata": {},
   "outputs": [
    {
     "name": "stdout",
     "output_type": "stream",
     "text": [
      "Simulation duration 9447.595287169874s.\n",
      "duration 4636.372761036884s, active duration 4635.372760699031s, idle duration: 1.0000003378537212s.\n",
      "duration 4553.153376056934s, active duration 4552.153376051183s, idle duration: 1.0000000057506384s.\n",
      "duration 4713.463046150499s, active duration 4712.463046136798s, idle duration: 1.0000000137015315s.\n",
      "duration 4925.857339652995s, active duration 4924.857339632398s, idle duration: 1.0000000205963306s.\n",
      "duration 4814.303892997129s, active duration 4813.303892972805s, idle duration: 1.000000024323157s.\n",
      "duration 4677.500064575578s, active duration 4676.500064548764s, idle duration: 1.0000000268133662s.\n",
      "duration 4631.241246541775s, active duration 4630.241246510203s, idle duration: 1.0000000315714856s.\n",
      "duration 4685.771374825719s, active duration 4684.771374791522s, idle duration: 1.0000000341969517s.\n",
      "duration 4636.302677448481s, active duration 4635.302677413348s, idle duration: 1.0000000351331786s.\n",
      "duration 4646.53786470785s, active duration 4645.537864656197s, idle duration: 1.0000000516530554s.\n",
      "duration 4612.982779119534s, active duration 4611.9827790473255s, idle duration: 1.000000072208334s.\n",
      "duration 4641.506337298305s, active duration 4640.506337220153s, idle duration: 1.0000000781521101s.\n",
      "duration 4910.23421538933s, active duration 4909.234215305876s, idle duration: 1.0000000834531841s.\n",
      "duration 4739.505378006652s, active duration 4738.505377922553s, idle duration: 1.0000000840987633s.\n",
      "duration 4931.151213240541s, active duration 4930.151213155829s, idle duration: 1.0000000847122645s.\n",
      "duration 4734.1977072691725s, active duration 4733.197707174477s, idle duration: 1.000000094695397s.\n",
      "duration 4907.745971448231s, active duration 4906.74597134911s, idle duration: 1.0000000991216724s.\n",
      "duration 4630.947490713849s, active duration 4629.947490603545s, idle duration: 1.000000110304866s.\n",
      "duration 4837.750450354217s, active duration 4836.750450241099s, idle duration: 1.000000113117515s.\n",
      "duration 9046.022420532423s, active duration 9045.022420411868s, idle duration: 1.0000001205545195s.\n",
      "duration 8185.529004191258s, active duration 8184.529004064442s, idle duration: 1.0000001268156398s.\n",
      "duration 7429.235366374501s, active duration 7428.235366244507s, idle duration: 1.000000129994175s.\n",
      "duration 7929.302597625263s, active duration 7928.302597489623s, idle duration: 1.0000001356399597s.\n",
      "duration 7590.440052524548s, active duration 7589.440052386674s, idle duration: 1.0000001378741856s.\n",
      "duration 7239.688579083717s, active duration 7238.688578944419s, idle duration: 1.0000001392985887s.\n",
      "duration 8458.041733536482s, active duration 8457.04173339717s, idle duration: 1.0000001393102018s.\n",
      "duration 6765.619935970521s, active duration 6764.619935829262s, idle duration: 1.0000001412585489s.\n",
      "duration 7583.342274367919s, active duration 7582.342274219315s, idle duration: 1.0000001486045693s.\n",
      "duration 9086.196385156169s, active duration 9085.196384973611s, idle duration: 1.0000001825575817s.\n",
      "duration 9249.804578217374s, active duration 9248.80457803196s, idle duration: 1.0000001854138798s.\n",
      "duration 7720.836371224362s, active duration 7719.836371038435s, idle duration: 1.0000001859271916s.\n",
      "duration 6971.843883033172s, active duration 6970.84388283789s, idle duration: 1.0000001952811985s.\n",
      "duration 7289.420632696665s, active duration 7288.420632498004s, idle duration: 1.0000001986605258s.\n",
      "duration 7885.591953685858s, active duration 7884.591953486491s, idle duration: 1.0000001993671592s.\n",
      "duration 7661.533610199476s, active duration 7660.533609995304s, idle duration: 1.0000002041720304s.\n",
      "duration 7933.203506345132s, active duration 7932.203506140369s, idle duration: 1.0000002047627674s.\n",
      "duration 7768.798164178629s, active duration 7767.798163973789s, idle duration: 1.0000002048403946s.\n",
      "duration 8276.057458662732s, active duration 8275.057458457712s, idle duration: 1.0000002050207908s.\n",
      "duration 8035.50134840872s, active duration 8034.501348197766s, idle duration: 1.0000002109547617s.\n",
      "duration 8218.8063436613s, active duration 8217.806343447588s, idle duration: 1.000000213711558s.\n",
      "duration 7051.88533120572s, active duration 7050.885330991662s, idle duration: 1.0000002140581152s.\n",
      "duration 8557.160463376767s, active duration 8556.160463159606s, idle duration: 1.0000002171610354s.\n",
      "duration 8314.30359009351s, active duration 8313.303589873743s, idle duration: 1.0000002197667988s.\n",
      "duration 6244.861559655737s, active duration 6243.861559434232s, idle duration: 1.0000002215054804s.\n",
      "duration 7390.270534515306s, active duration 7389.270534291015s, idle duration: 1.0000002242910853s.\n",
      "duration 7954.454236593797s, active duration 7953.454236368148s, idle duration: 1.0000002256492302s.\n",
      "duration 8033.123001084659s, active duration 8032.123000851444s, idle duration: 1.00000023321565s.\n",
      "duration 4636.240013564423s, active duration 4635.240013309199s, idle duration: 1.00000025522434s.\n",
      "duration 4594.788831094393s, active duration 4593.788830838621s, idle duration: 1.0000002557717234s.\n",
      "duration 4905.005821842659s, active duration 4904.005821579432s, idle duration: 1.0000002632271476s.\n",
      "duration 4700.551828852849s, active duration 4699.551828586675s, idle duration: 1.0000002661745016s.\n",
      "duration 4760.148882841165s, active duration 4759.1488825739125s, idle duration: 1.000000267252291s.\n",
      "duration 4664.563570508194s, active duration 4663.563570240485s, idle duration: 1.0000002677090973s.\n",
      "duration 4750.193006261966s, active duration 4749.193005992249s, idle duration: 1.000000269717125s.\n",
      "duration 8775.639379926135s, active duration 8774.639379642913s, idle duration: 1.000000283221563s.\n",
      "duration 6182.497301223217s, active duration 6181.497300932259s, idle duration: 1.0000002909576322s.\n",
      "duration 7716.286079014926s, active duration 7715.286078709008s, idle duration: 1.0000003059183311s.\n",
      "duration 8763.75174958643s, active duration 8762.751749277752s, idle duration: 1.0000003086790341s.\n",
      "duration 7040.541226937553s, active duration 7039.541226617465s, idle duration: 1.0000003200875518s.\n",
      "duration 9447.595287169876s, active duration 9446.595286849608s, idle duration: 1.0000003202669294s.\n",
      "duration 8256.978616719141s, active duration 8255.97861639779s, idle duration: 1.000000321351924s.\n"
     ]
    }
   ],
   "source": [
    "print(f\"Simulation duration {float(storage_dataset['duration'][0])}s.\")\n",
    "for _, sample in storage_dataset.iterrows():\n",
    "    idle_duration = 0\n",
    "    if pd.notna(sample['idle_intervals']):\n",
    "        for idle_interval in sample['idle_intervals'].split(\":\"):\n",
    "            if idle_interval != '':\n",
    "                idle_duration += float(idle_interval)\n",
    "    print(f\"duration {float(sample['active_duration'])+float(idle_duration)}s, active duration {sample['active_duration']}s, idle duration: {idle_duration}s.\")\n"
   ]
  },
  {
   "cell_type": "markdown",
   "metadata": {},
   "source": [
    "### Network dataset"
   ]
  },
  {
   "cell_type": "code",
   "execution_count": 73,
   "metadata": {},
   "outputs": [
    {
     "data": {
      "text/html": [
       "<div>\n",
       "<style scoped>\n",
       "    .dataframe tbody tr th:only-of-type {\n",
       "        vertical-align: middle;\n",
       "    }\n",
       "\n",
       "    .dataframe tbody tr th {\n",
       "        vertical-align: top;\n",
       "    }\n",
       "\n",
       "    .dataframe thead th {\n",
       "        text-align: right;\n",
       "    }\n",
       "</style>\n",
       "<table border=\"1\" class=\"dataframe\">\n",
       "  <thead>\n",
       "    <tr style=\"text-align: right;\">\n",
       "      <th></th>\n",
       "      <th>datacenter_id</th>\n",
       "      <th>datacenter_name</th>\n",
       "      <th>id</th>\n",
       "      <th>type</th>\n",
       "      <th>role</th>\n",
       "      <th>level</th>\n",
       "      <th>bandwidth</th>\n",
       "      <th>total_used_bandwidth</th>\n",
       "      <th>traffic_history</th>\n",
       "      <th>ports</th>\n",
       "      <th>duration</th>\n",
       "      <th>active_duration</th>\n",
       "      <th>power_per_port</th>\n",
       "      <th>low_power</th>\n",
       "      <th>high_power</th>\n",
       "      <th>is_active</th>\n",
       "      <th>Unnamed: 16</th>\n",
       "    </tr>\n",
       "  </thead>\n",
       "  <tbody>\n",
       "    <tr>\n",
       "      <th>0</th>\n",
       "      <td>0</td>\n",
       "      <td>Datacenter_1</td>\n",
       "      <td>0</td>\n",
       "      <td>switch</td>\n",
       "      <td>access switch</td>\n",
       "      <td>0</td>\n",
       "      <td>360000</td>\n",
       "      <td>2427.0</td>\n",
       "      <td>162.0:93.0:71.0:72.0:79.0:73.0:71.0:71.0:73.0:...</td>\n",
       "      <td>400,True,0.24269999999999994,0,12,10000,2427.0...</td>\n",
       "      <td>3.6094</td>\n",
       "      <td>0.006742</td>\n",
       "      <td>8</td>\n",
       "      <td>132</td>\n",
       "      <td>132</td>\n",
       "      <td>True</td>\n",
       "      <td>NaN</td>\n",
       "    </tr>\n",
       "    <tr>\n",
       "      <th>1</th>\n",
       "      <td>0</td>\n",
       "      <td>Datacenter_1</td>\n",
       "      <td>1</td>\n",
       "      <td>switch</td>\n",
       "      <td>access switch</td>\n",
       "      <td>0</td>\n",
       "      <td>360000</td>\n",
       "      <td>3573.0</td>\n",
       "      <td>89.0:89.0:95.0:198.0:218.0:156.0:90.0:109.0:17...</td>\n",
       "      <td>402,True,0.35729999999999995,1,12,10000,3573.0...</td>\n",
       "      <td>3.6094</td>\n",
       "      <td>0.009925</td>\n",
       "      <td>8</td>\n",
       "      <td>132</td>\n",
       "      <td>132</td>\n",
       "      <td>True</td>\n",
       "      <td>NaN</td>\n",
       "    </tr>\n",
       "    <tr>\n",
       "      <th>2</th>\n",
       "      <td>0</td>\n",
       "      <td>Datacenter_1</td>\n",
       "      <td>2</td>\n",
       "      <td>switch</td>\n",
       "      <td>access switch</td>\n",
       "      <td>0</td>\n",
       "      <td>360000</td>\n",
       "      <td>2492.0</td>\n",
       "      <td>94.0:68.0:73.0:61.0:73.0:83.0:74.0:63.0:73.0:7...</td>\n",
       "      <td>404,True,0.24919999999999998,2,12,10000,2492.0...</td>\n",
       "      <td>3.6094</td>\n",
       "      <td>0.006922</td>\n",
       "      <td>8</td>\n",
       "      <td>132</td>\n",
       "      <td>132</td>\n",
       "      <td>True</td>\n",
       "      <td>NaN</td>\n",
       "    </tr>\n",
       "    <tr>\n",
       "      <th>3</th>\n",
       "      <td>0</td>\n",
       "      <td>Datacenter_1</td>\n",
       "      <td>3</td>\n",
       "      <td>switch</td>\n",
       "      <td>access switch</td>\n",
       "      <td>0</td>\n",
       "      <td>360000</td>\n",
       "      <td>2335.0</td>\n",
       "      <td>64.0:64.0:64.0:73.0:74.0:64.0:74.0:74.0:56.0:6...</td>\n",
       "      <td>406,True,0.23349999999999999,3,12,10000,2335.0...</td>\n",
       "      <td>3.6094</td>\n",
       "      <td>0.006486</td>\n",
       "      <td>8</td>\n",
       "      <td>132</td>\n",
       "      <td>132</td>\n",
       "      <td>True</td>\n",
       "      <td>NaN</td>\n",
       "    </tr>\n",
       "    <tr>\n",
       "      <th>4</th>\n",
       "      <td>0</td>\n",
       "      <td>Datacenter_1</td>\n",
       "      <td>4</td>\n",
       "      <td>switch</td>\n",
       "      <td>access switch</td>\n",
       "      <td>0</td>\n",
       "      <td>360000</td>\n",
       "      <td>2436.0</td>\n",
       "      <td>70.0:64.0:57.0:75.0:72.0:65.0:75.0:66.0:63.0:7...</td>\n",
       "      <td>408,True,0.24359999999999996,4,12,10000,2436.0...</td>\n",
       "      <td>3.6094</td>\n",
       "      <td>0.006767</td>\n",
       "      <td>8</td>\n",
       "      <td>132</td>\n",
       "      <td>132</td>\n",
       "      <td>True</td>\n",
       "      <td>NaN</td>\n",
       "    </tr>\n",
       "  </tbody>\n",
       "</table>\n",
       "</div>"
      ],
      "text/plain": [
       "   datacenter_id datacenter_name  id    type           role  level  bandwidth  \\\n",
       "0              0    Datacenter_1   0  switch  access switch      0     360000   \n",
       "1              0    Datacenter_1   1  switch  access switch      0     360000   \n",
       "2              0    Datacenter_1   2  switch  access switch      0     360000   \n",
       "3              0    Datacenter_1   3  switch  access switch      0     360000   \n",
       "4              0    Datacenter_1   4  switch  access switch      0     360000   \n",
       "\n",
       "   total_used_bandwidth                                    traffic_history  \\\n",
       "0                2427.0  162.0:93.0:71.0:72.0:79.0:73.0:71.0:71.0:73.0:...   \n",
       "1                3573.0  89.0:89.0:95.0:198.0:218.0:156.0:90.0:109.0:17...   \n",
       "2                2492.0  94.0:68.0:73.0:61.0:73.0:83.0:74.0:63.0:73.0:7...   \n",
       "3                2335.0  64.0:64.0:64.0:73.0:74.0:64.0:74.0:74.0:56.0:6...   \n",
       "4                2436.0  70.0:64.0:57.0:75.0:72.0:65.0:75.0:66.0:63.0:7...   \n",
       "\n",
       "                                               ports  duration  \\\n",
       "0  400,True,0.24269999999999994,0,12,10000,2427.0...    3.6094   \n",
       "1  402,True,0.35729999999999995,1,12,10000,3573.0...    3.6094   \n",
       "2  404,True,0.24919999999999998,2,12,10000,2492.0...    3.6094   \n",
       "3  406,True,0.23349999999999999,3,12,10000,2335.0...    3.6094   \n",
       "4  408,True,0.24359999999999996,4,12,10000,2436.0...    3.6094   \n",
       "\n",
       "   active_duration  power_per_port  low_power  high_power  is_active  \\\n",
       "0         0.006742               8        132         132       True   \n",
       "1         0.009925               8        132         132       True   \n",
       "2         0.006922               8        132         132       True   \n",
       "3         0.006486               8        132         132       True   \n",
       "4         0.006767               8        132         132       True   \n",
       "\n",
       "   Unnamed: 16  \n",
       "0          NaN  \n",
       "1          NaN  \n",
       "2          NaN  \n",
       "3          NaN  \n",
       "4          NaN  "
      ]
     },
     "execution_count": 73,
     "metadata": {},
     "output_type": "execute_result"
    }
   ],
   "source": [
    "network_dataset = pd.read_csv(\"./data/logfile-network-v7.csv\", delimiter=\";\")\n",
    "network_dataset.head()"
   ]
  },
  {
   "cell_type": "code",
   "execution_count": 74,
   "metadata": {},
   "outputs": [
    {
     "data": {
      "text/plain": [
       "833"
      ]
     },
     "execution_count": 74,
     "metadata": {},
     "output_type": "execute_result"
    }
   ],
   "source": [
    "network_dataset.size"
   ]
  },
  {
   "cell_type": "code",
   "execution_count": 75,
   "metadata": {},
   "outputs": [
    {
     "data": {
      "text/plain": [
       "datacenter_id             int64\n",
       "datacenter_name          object\n",
       "id                        int64\n",
       "type                     object\n",
       "role                     object\n",
       "level                     int64\n",
       "bandwidth                 int64\n",
       "total_used_bandwidth    float64\n",
       "traffic_history          object\n",
       "ports                    object\n",
       "duration                float64\n",
       "active_duration         float64\n",
       "power_per_port            int64\n",
       "low_power                 int64\n",
       "high_power                int64\n",
       "is_active                  bool\n",
       "Unnamed: 16             float64\n",
       "dtype: object"
      ]
     },
     "execution_count": 75,
     "metadata": {},
     "output_type": "execute_result"
    }
   ],
   "source": [
    "network_dataset.dtypes"
   ]
  },
  {
   "cell_type": "code",
   "execution_count": 76,
   "metadata": {},
   "outputs": [
    {
     "name": "stdout",
     "output_type": "stream",
     "text": [
      "Number of null in the dataset: 57\n",
      "Number of NaN in the dataset: 57\n"
     ]
    }
   ],
   "source": [
    "print(f\"Number of null in the dataset: {network_dataset.isnull().sum().sum()}\")\n",
    "print(f\"Number of NaN in the dataset: {network_dataset.isna().sum().sum()}\")"
   ]
  },
  {
   "cell_type": "code",
   "execution_count": 77,
   "metadata": {},
   "outputs": [
    {
     "name": "stdout",
     "output_type": "stream",
     "text": [
      "Number of null per field: \n",
      "datacenter_id            0\n",
      "datacenter_name          0\n",
      "id                       0\n",
      "type                     0\n",
      "role                     0\n",
      "level                    0\n",
      "bandwidth                0\n",
      "total_used_bandwidth     0\n",
      "traffic_history          8\n",
      "ports                    0\n",
      "duration                 0\n",
      "active_duration          0\n",
      "power_per_port           0\n",
      "low_power                0\n",
      "high_power               0\n",
      "is_active                0\n",
      "Unnamed: 16             49\n",
      "dtype: int64\n",
      "Number of NaN per field: \n",
      "datacenter_id            0\n",
      "datacenter_name          0\n",
      "id                       0\n",
      "type                     0\n",
      "role                     0\n",
      "level                    0\n",
      "bandwidth                0\n",
      "total_used_bandwidth     0\n",
      "traffic_history          8\n",
      "ports                    0\n",
      "duration                 0\n",
      "active_duration          0\n",
      "power_per_port           0\n",
      "low_power                0\n",
      "high_power               0\n",
      "is_active                0\n",
      "Unnamed: 16             49\n",
      "dtype: int64\n"
     ]
    }
   ],
   "source": [
    "print(f\"Number of null per field: \\n{network_dataset.isnull().sum()}\")\n",
    "print(f\"Number of NaN per field: \\n{network_dataset.isna().sum()}\")"
   ]
  },
  {
   "cell_type": "code",
   "execution_count": 78,
   "metadata": {},
   "outputs": [
    {
     "name": "stdout",
     "output_type": "stream",
     "text": [
      "Datacenter 0 has 16 switches.\n",
      "Datacenter 1 has 10 switches.\n",
      "Datacenter 2 has 10 switches.\n",
      "Datacenter 3 has 13 switches.\n"
     ]
    }
   ],
   "source": [
    "labels, values = np.unique(network_dataset['datacenter_id'], return_counts=True)\n",
    "for i in range(len(labels)):\n",
    "    print(f\"Datacenter {labels[i]} has {int(values[i])} switches.\")"
   ]
  },
  {
   "cell_type": "code",
   "execution_count": 79,
   "metadata": {},
   "outputs": [
    {
     "name": "stdout",
     "output_type": "stream",
     "text": [
      "There are 49 of type switch.\n"
     ]
    }
   ],
   "source": [
    "labels, values = np.unique(network_dataset['type'], return_counts=True)\n",
    "for i in range(len(labels)):\n",
    "    print(f\"There are {values[i]} of type {labels[i]}.\")"
   ]
  },
  {
   "cell_type": "code",
   "execution_count": 80,
   "metadata": {},
   "outputs": [
    {
     "name": "stdout",
     "output_type": "stream",
     "text": [
      "Simulation duration 3.6094s.\n"
     ]
    }
   ],
   "source": [
    "print(f\"Simulation duration {network_dataset['duration'][0]}s.\")"
   ]
  },
  {
   "cell_type": "code",
   "execution_count": 92,
   "metadata": {},
   "outputs": [
    {
     "name": "stdout",
     "output_type": "stream",
     "text": [
      "Datacenter Datacenter_1 has 864 switchports.\n",
      "Datacenter Datacenter_2 has 648 switchports.\n",
      "Datacenter Datacenter_3 has 648 switchports.\n",
      "Datacenter Datacenter_4 has 756 switchports.\n"
     ]
    }
   ],
   "source": [
    "labels, values = np.unique(network_dataset['datacenter_name'], return_counts=True)\n",
    "for datacenter_name in labels:\n",
    "    ports = 0\n",
    "    for index, sample in network_dataset[network_dataset['datacenter_name'] == datacenter_name].iterrows():\n",
    "        ports += len(sample['ports'].split(\":\")) - 1\n",
    "        # print(len(sample['ports'].split(\":\")) - 1)\n",
    "    print(f\"Datacenter {datacenter_name} has {ports} switchports.\")"
   ]
  },
  {
   "cell_type": "code",
   "execution_count": null,
   "metadata": {},
   "outputs": [],
   "source": []
  }
 ],
 "metadata": {
  "kernelspec": {
   "display_name": "Python 3",
   "language": "python",
   "name": "python3"
  },
  "language_info": {
   "codemirror_mode": {
    "name": "ipython",
    "version": 3
   },
   "file_extension": ".py",
   "mimetype": "text/x-python",
   "name": "python",
   "nbconvert_exporter": "python",
   "pygments_lexer": "ipython3",
   "version": "3.10.12"
  }
 },
 "nbformat": 4,
 "nbformat_minor": 2
}
