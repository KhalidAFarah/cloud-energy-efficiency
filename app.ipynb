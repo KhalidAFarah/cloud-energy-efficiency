{
 "cells": [
  {
   "cell_type": "code",
   "execution_count": 2,
   "metadata": {},
   "outputs": [
    {
     "data": {
      "text/html": [
       "<div>\n",
       "<style scoped>\n",
       "    .dataframe tbody tr th:only-of-type {\n",
       "        vertical-align: middle;\n",
       "    }\n",
       "\n",
       "    .dataframe tbody tr th {\n",
       "        vertical-align: top;\n",
       "    }\n",
       "\n",
       "    .dataframe thead th {\n",
       "        text-align: right;\n",
       "    }\n",
       "</style>\n",
       "<table border=\"1\" class=\"dataframe\">\n",
       "  <thead>\n",
       "    <tr style=\"text-align: right;\">\n",
       "      <th></th>\n",
       "      <th>time</th>\n",
       "      <th>datacenter_name</th>\n",
       "      <th>host_id</th>\n",
       "      <th>type</th>\n",
       "      <th>active</th>\n",
       "      <th>number_of_pes</th>\n",
       "      <th>available_pes</th>\n",
       "      <th>mips</th>\n",
       "      <th>available_mips</th>\n",
       "      <th>ram</th>\n",
       "      <th>available_ram</th>\n",
       "      <th>bw</th>\n",
       "      <th>available_bw</th>\n",
       "      <th>power_model</th>\n",
       "      <th>vms</th>\n",
       "      <th>Unnamed: 15</th>\n",
       "    </tr>\n",
       "  </thead>\n",
       "  <tbody>\n",
       "    <tr>\n",
       "      <th>0</th>\n",
       "      <td>300.01</td>\n",
       "      <td>Datacenter_1</td>\n",
       "      <td>0</td>\n",
       "      <td>host</td>\n",
       "      <td>True</td>\n",
       "      <td>4</td>\n",
       "      <td>1</td>\n",
       "      <td>10000</td>\n",
       "      <td>0.0</td>\n",
       "      <td>160000</td>\n",
       "      <td>83880.0</td>\n",
       "      <td>10000</td>\n",
       "      <td>111.0</td>\n",
       "      <td>93.7,97.0,101.0,105.0,110.0,116.0,121.0,125.0,...</td>\n",
       "      <td>2,1000.0,8388.0,12.0:2,1000.0,8388.0,12.0:2,10...</td>\n",
       "      <td>NaN</td>\n",
       "    </tr>\n",
       "    <tr>\n",
       "      <th>1</th>\n",
       "      <td>600.01</td>\n",
       "      <td>Datacenter_1</td>\n",
       "      <td>0</td>\n",
       "      <td>host</td>\n",
       "      <td>True</td>\n",
       "      <td>4</td>\n",
       "      <td>1</td>\n",
       "      <td>10000</td>\n",
       "      <td>0.0</td>\n",
       "      <td>160000</td>\n",
       "      <td>83880.0</td>\n",
       "      <td>10000</td>\n",
       "      <td>111.0</td>\n",
       "      <td>93.7,97.0,101.0,105.0,110.0,116.0,121.0,125.0,...</td>\n",
       "      <td>2,1000.0,8388.0,12.0:2,1000.0,8388.0,12.0:2,10...</td>\n",
       "      <td>NaN</td>\n",
       "    </tr>\n",
       "    <tr>\n",
       "      <th>2</th>\n",
       "      <td>900.01</td>\n",
       "      <td>Datacenter_1</td>\n",
       "      <td>0</td>\n",
       "      <td>host</td>\n",
       "      <td>True</td>\n",
       "      <td>4</td>\n",
       "      <td>1</td>\n",
       "      <td>10000</td>\n",
       "      <td>0.0</td>\n",
       "      <td>160000</td>\n",
       "      <td>83880.0</td>\n",
       "      <td>10000</td>\n",
       "      <td>111.0</td>\n",
       "      <td>93.7,97.0,101.0,105.0,110.0,116.0,121.0,125.0,...</td>\n",
       "      <td>2,1000.0,8388.0,12.0:2,1000.0,8388.0,12.0:2,10...</td>\n",
       "      <td>NaN</td>\n",
       "    </tr>\n",
       "    <tr>\n",
       "      <th>3</th>\n",
       "      <td>1200.01</td>\n",
       "      <td>Datacenter_1</td>\n",
       "      <td>0</td>\n",
       "      <td>host</td>\n",
       "      <td>True</td>\n",
       "      <td>4</td>\n",
       "      <td>1</td>\n",
       "      <td>10000</td>\n",
       "      <td>0.0</td>\n",
       "      <td>160000</td>\n",
       "      <td>83880.0</td>\n",
       "      <td>10000</td>\n",
       "      <td>111.0</td>\n",
       "      <td>93.7,97.0,101.0,105.0,110.0,116.0,121.0,125.0,...</td>\n",
       "      <td>2,1000.0,8388.0,12.0:2,1000.0,8388.0,12.0:2,10...</td>\n",
       "      <td>NaN</td>\n",
       "    </tr>\n",
       "    <tr>\n",
       "      <th>4</th>\n",
       "      <td>1500.01</td>\n",
       "      <td>Datacenter_1</td>\n",
       "      <td>0</td>\n",
       "      <td>host</td>\n",
       "      <td>True</td>\n",
       "      <td>4</td>\n",
       "      <td>1</td>\n",
       "      <td>10000</td>\n",
       "      <td>0.0</td>\n",
       "      <td>160000</td>\n",
       "      <td>83880.0</td>\n",
       "      <td>10000</td>\n",
       "      <td>111.0</td>\n",
       "      <td>93.7,97.0,101.0,105.0,110.0,116.0,121.0,125.0,...</td>\n",
       "      <td>2,1000.0,8388.0,12.0:2,1000.0,8388.0,12.0:2,10...</td>\n",
       "      <td>NaN</td>\n",
       "    </tr>\n",
       "  </tbody>\n",
       "</table>\n",
       "</div>"
      ],
      "text/plain": [
       "      time datacenter_name  host_id  type  active  number_of_pes  \\\n",
       "0   300.01    Datacenter_1        0  host    True              4   \n",
       "1   600.01    Datacenter_1        0  host    True              4   \n",
       "2   900.01    Datacenter_1        0  host    True              4   \n",
       "3  1200.01    Datacenter_1        0  host    True              4   \n",
       "4  1500.01    Datacenter_1        0  host    True              4   \n",
       "\n",
       "   available_pes   mips  available_mips     ram  available_ram     bw  \\\n",
       "0              1  10000             0.0  160000        83880.0  10000   \n",
       "1              1  10000             0.0  160000        83880.0  10000   \n",
       "2              1  10000             0.0  160000        83880.0  10000   \n",
       "3              1  10000             0.0  160000        83880.0  10000   \n",
       "4              1  10000             0.0  160000        83880.0  10000   \n",
       "\n",
       "   available_bw                                        power_model  \\\n",
       "0         111.0  93.7,97.0,101.0,105.0,110.0,116.0,121.0,125.0,...   \n",
       "1         111.0  93.7,97.0,101.0,105.0,110.0,116.0,121.0,125.0,...   \n",
       "2         111.0  93.7,97.0,101.0,105.0,110.0,116.0,121.0,125.0,...   \n",
       "3         111.0  93.7,97.0,101.0,105.0,110.0,116.0,121.0,125.0,...   \n",
       "4         111.0  93.7,97.0,101.0,105.0,110.0,116.0,121.0,125.0,...   \n",
       "\n",
       "                                                 vms  Unnamed: 15  \n",
       "0  2,1000.0,8388.0,12.0:2,1000.0,8388.0,12.0:2,10...          NaN  \n",
       "1  2,1000.0,8388.0,12.0:2,1000.0,8388.0,12.0:2,10...          NaN  \n",
       "2  2,1000.0,8388.0,12.0:2,1000.0,8388.0,12.0:2,10...          NaN  \n",
       "3  2,1000.0,8388.0,12.0:2,1000.0,8388.0,12.0:2,10...          NaN  \n",
       "4  2,1000.0,8388.0,12.0:2,1000.0,8388.0,12.0:2,10...          NaN  "
      ]
     },
     "execution_count": 2,
     "metadata": {},
     "output_type": "execute_result"
    }
   ],
   "source": [
    "import pandas as pd\n",
    "import numpy as np\n",
    "import matplotlib as plt\n",
    "\n",
    "dataset = pd.read_csv(\"./data/logfile-v4.csv\", delimiter=\";\")\n",
    "dataset.head()"
   ]
  },
  {
   "cell_type": "code",
   "execution_count": 3,
   "metadata": {},
   "outputs": [
    {
     "data": {
      "text/plain": [
       "197120"
      ]
     },
     "execution_count": 3,
     "metadata": {},
     "output_type": "execute_result"
    }
   ],
   "source": [
    "dataset.size"
   ]
  },
  {
   "cell_type": "code",
   "execution_count": 4,
   "metadata": {},
   "outputs": [
    {
     "data": {
      "text/plain": [
       "Index(['time', 'datacenter_name', 'host_id', 'type', 'active', 'number_of_pes',\n",
       "       'available_pes', 'mips', 'available_mips', 'ram', 'available_ram', 'bw',\n",
       "       'available_bw', 'power_model', 'vms', 'Unnamed: 15'],\n",
       "      dtype='object')"
      ]
     },
     "execution_count": 4,
     "metadata": {},
     "output_type": "execute_result"
    }
   ],
   "source": [
    "dataset.columns"
   ]
  },
  {
   "cell_type": "code",
   "execution_count": 5,
   "metadata": {},
   "outputs": [
    {
     "data": {
      "text/plain": [
       "time               float64\n",
       "datacenter_name     object\n",
       "host_id              int64\n",
       "type                object\n",
       "active                bool\n",
       "number_of_pes        int64\n",
       "available_pes        int64\n",
       "mips                 int64\n",
       "available_mips     float64\n",
       "ram                  int64\n",
       "available_ram      float64\n",
       "bw                   int64\n",
       "available_bw       float64\n",
       "power_model         object\n",
       "vms                 object\n",
       "Unnamed: 15        float64\n",
       "dtype: object"
      ]
     },
     "execution_count": 5,
     "metadata": {},
     "output_type": "execute_result"
    }
   ],
   "source": [
    "dataset.dtypes"
   ]
  },
  {
   "cell_type": "code",
   "execution_count": 6,
   "metadata": {},
   "outputs": [
    {
     "name": "stdout",
     "output_type": "stream",
     "text": [
      "Number of null in the dataset: 12544\n",
      "Number of NaN in the dataset: 12544\n"
     ]
    }
   ],
   "source": [
    "print(f\"Number of null in the dataset: {dataset.isnull().sum().sum()}\")\n",
    "print(f\"Number of NaN in the dataset: {dataset.isna().sum().sum()}\")"
   ]
  },
  {
   "cell_type": "code",
   "execution_count": 7,
   "metadata": {},
   "outputs": [
    {
     "name": "stdout",
     "output_type": "stream",
     "text": [
      "Number of null per field: \n",
      "time                   0\n",
      "datacenter_name        0\n",
      "host_id                0\n",
      "type                   0\n",
      "active                 0\n",
      "number_of_pes          0\n",
      "available_pes          0\n",
      "mips                   0\n",
      "available_mips         0\n",
      "ram                    0\n",
      "available_ram          0\n",
      "bw                     0\n",
      "available_bw           0\n",
      "power_model            0\n",
      "vms                  224\n",
      "Unnamed: 15        12320\n",
      "dtype: int64\n",
      "Number of NaN per field: \n",
      "time                   0\n",
      "datacenter_name        0\n",
      "host_id                0\n",
      "type                   0\n",
      "active                 0\n",
      "number_of_pes          0\n",
      "available_pes          0\n",
      "mips                   0\n",
      "available_mips         0\n",
      "ram                    0\n",
      "available_ram          0\n",
      "bw                     0\n",
      "available_bw           0\n",
      "power_model            0\n",
      "vms                  224\n",
      "Unnamed: 15        12320\n",
      "dtype: int64\n"
     ]
    }
   ],
   "source": [
    "print(f\"Number of null per field: \\n{dataset.isnull().sum()}\")\n",
    "print(f\"Number of NaN per field: \\n{dataset.isna().sum()}\")"
   ]
  },
  {
   "cell_type": "code",
   "execution_count": 8,
   "metadata": {},
   "outputs": [
    {
     "name": "stdout",
     "output_type": "stream",
     "text": [
      "Datacenter Datacenter_1 has 220 hosts\n",
      "Datacenter Datacenter_2 has 220 hosts\n",
      "Datacenter Datacenter_3 has 220 hosts\n",
      "Datacenter Datacenter_4 has 220 hosts\n"
     ]
    }
   ],
   "source": [
    "labels, values = np.unique(dataset['datacenter_name'], return_counts=True)\n",
    "for i in range(len(labels)):\n",
    "    print(f\"Datacenter {labels[i]} has {int(values[i]/14)} hosts\")"
   ]
  },
  {
   "cell_type": "code",
   "execution_count": 9,
   "metadata": {},
   "outputs": [
    {
     "name": "stdout",
     "output_type": "stream",
     "text": [
      "There are 12320 of host\n"
     ]
    }
   ],
   "source": [
    "labels, values = np.unique(dataset['type'], return_counts=True)\n",
    "for i in range(len(labels)):\n",
    "    print(f\"There are {values[i]} of {labels[i]}\")"
   ]
  },
  {
   "cell_type": "markdown",
   "metadata": {},
   "source": [
    "### Storage dataset"
   ]
  },
  {
   "cell_type": "code",
   "execution_count": 10,
   "metadata": {},
   "outputs": [
    {
     "data": {
      "text/html": [
       "<div>\n",
       "<style scoped>\n",
       "    .dataframe tbody tr th:only-of-type {\n",
       "        vertical-align: middle;\n",
       "    }\n",
       "\n",
       "    .dataframe tbody tr th {\n",
       "        vertical-align: top;\n",
       "    }\n",
       "\n",
       "    .dataframe thead th {\n",
       "        text-align: right;\n",
       "    }\n",
       "</style>\n",
       "<table border=\"1\" class=\"dataframe\">\n",
       "  <thead>\n",
       "    <tr style=\"text-align: right;\">\n",
       "      <th></th>\n",
       "      <th>datacenter_id</th>\n",
       "      <th>datacenter_storage_energy</th>\n",
       "      <th>storage_id</th>\n",
       "      <th>system</th>\n",
       "      <th>storage_capacity</th>\n",
       "      <th>capacity_used</th>\n",
       "      <th>inactive_duration</th>\n",
       "      <th>idle_intervals</th>\n",
       "      <th>total_energy_active</th>\n",
       "      <th>total_energy_idle</th>\n",
       "      <th>average_rotation_latency</th>\n",
       "      <th>average_seek_Time</th>\n",
       "      <th>max_internal_data_transfer_rate</th>\n",
       "      <th>idle_power</th>\n",
       "      <th>active_power</th>\n",
       "      <th>Unnamed: 15</th>\n",
       "    </tr>\n",
       "  </thead>\n",
       "  <tbody>\n",
       "    <tr>\n",
       "      <th>0</th>\n",
       "      <td>3</td>\n",
       "      <td>73600.482528</td>\n",
       "      <td>1</td>\n",
       "      <td>storage</td>\n",
       "      <td>900000.0</td>\n",
       "      <td>32768.0</td>\n",
       "      <td>178.497562</td>\n",
       "      <td>1.0000125760114886:</td>\n",
       "      <td>1035.285862</td>\n",
       "      <td>3.000038</td>\n",
       "      <td>0.003</td>\n",
       "      <td>0.004</td>\n",
       "      <td>198.0</td>\n",
       "      <td>3.0</td>\n",
       "      <td>5.8</td>\n",
       "      <td>NaN</td>\n",
       "    </tr>\n",
       "    <tr>\n",
       "      <th>1</th>\n",
       "      <td>3</td>\n",
       "      <td>73600.482528</td>\n",
       "      <td>2</td>\n",
       "      <td>storage</td>\n",
       "      <td>900000.0</td>\n",
       "      <td>20992.0</td>\n",
       "      <td>106.085322</td>\n",
       "      <td>1.0000001428057186:</td>\n",
       "      <td>615.294866</td>\n",
       "      <td>3.000000</td>\n",
       "      <td>0.003</td>\n",
       "      <td>0.004</td>\n",
       "      <td>198.0</td>\n",
       "      <td>3.0</td>\n",
       "      <td>5.8</td>\n",
       "      <td>NaN</td>\n",
       "    </tr>\n",
       "    <tr>\n",
       "      <th>2</th>\n",
       "      <td>3</td>\n",
       "      <td>73600.482528</td>\n",
       "      <td>3</td>\n",
       "      <td>storage</td>\n",
       "      <td>900000.0</td>\n",
       "      <td>19968.0</td>\n",
       "      <td>106.086930</td>\n",
       "      <td>1.0000002423842134:</td>\n",
       "      <td>615.304191</td>\n",
       "      <td>3.000001</td>\n",
       "      <td>0.003</td>\n",
       "      <td>0.004</td>\n",
       "      <td>198.0</td>\n",
       "      <td>3.0</td>\n",
       "      <td>5.8</td>\n",
       "      <td>NaN</td>\n",
       "    </tr>\n",
       "    <tr>\n",
       "      <th>3</th>\n",
       "      <td>3</td>\n",
       "      <td>73600.482528</td>\n",
       "      <td>4</td>\n",
       "      <td>storage</td>\n",
       "      <td>900000.0</td>\n",
       "      <td>19456.0</td>\n",
       "      <td>129.373838</td>\n",
       "      <td>1.000000266207527:</td>\n",
       "      <td>750.368259</td>\n",
       "      <td>3.000001</td>\n",
       "      <td>0.003</td>\n",
       "      <td>0.004</td>\n",
       "      <td>198.0</td>\n",
       "      <td>3.0</td>\n",
       "      <td>5.8</td>\n",
       "      <td>NaN</td>\n",
       "    </tr>\n",
       "    <tr>\n",
       "      <th>4</th>\n",
       "      <td>3</td>\n",
       "      <td>73600.482528</td>\n",
       "      <td>5</td>\n",
       "      <td>storage</td>\n",
       "      <td>900000.0</td>\n",
       "      <td>31232.0</td>\n",
       "      <td>162.973803</td>\n",
       "      <td>1.0000005716485505:</td>\n",
       "      <td>945.248059</td>\n",
       "      <td>3.000002</td>\n",
       "      <td>0.003</td>\n",
       "      <td>0.004</td>\n",
       "      <td>198.0</td>\n",
       "      <td>3.0</td>\n",
       "      <td>5.8</td>\n",
       "      <td>NaN</td>\n",
       "    </tr>\n",
       "  </tbody>\n",
       "</table>\n",
       "</div>"
      ],
      "text/plain": [
       "   datacenter_id  datacenter_storage_energy  storage_id   system  \\\n",
       "0              3               73600.482528           1  storage   \n",
       "1              3               73600.482528           2  storage   \n",
       "2              3               73600.482528           3  storage   \n",
       "3              3               73600.482528           4  storage   \n",
       "4              3               73600.482528           5  storage   \n",
       "\n",
       "   storage_capacity  capacity_used  inactive_duration       idle_intervals  \\\n",
       "0          900000.0        32768.0         178.497562  1.0000125760114886:   \n",
       "1          900000.0        20992.0         106.085322  1.0000001428057186:   \n",
       "2          900000.0        19968.0         106.086930  1.0000002423842134:   \n",
       "3          900000.0        19456.0         129.373838   1.000000266207527:   \n",
       "4          900000.0        31232.0         162.973803  1.0000005716485505:   \n",
       "\n",
       "   total_energy_active  total_energy_idle  average_rotation_latency  \\\n",
       "0          1035.285862           3.000038                     0.003   \n",
       "1           615.294866           3.000000                     0.003   \n",
       "2           615.304191           3.000001                     0.003   \n",
       "3           750.368259           3.000001                     0.003   \n",
       "4           945.248059           3.000002                     0.003   \n",
       "\n",
       "   average_seek_Time  max_internal_data_transfer_rate  idle_power  \\\n",
       "0              0.004                            198.0         3.0   \n",
       "1              0.004                            198.0         3.0   \n",
       "2              0.004                            198.0         3.0   \n",
       "3              0.004                            198.0         3.0   \n",
       "4              0.004                            198.0         3.0   \n",
       "\n",
       "   active_power  Unnamed: 15  \n",
       "0           5.8          NaN  \n",
       "1           5.8          NaN  \n",
       "2           5.8          NaN  \n",
       "3           5.8          NaN  \n",
       "4           5.8          NaN  "
      ]
     },
     "execution_count": 10,
     "metadata": {},
     "output_type": "execute_result"
    }
   ],
   "source": [
    "dataset_storage = pd.read_csv(\"./data/logfile-storage.csv\", delimiter=\";\")\n",
    "dataset_storage.head()"
   ]
  },
  {
   "cell_type": "code",
   "execution_count": 11,
   "metadata": {},
   "outputs": [
    {
     "data": {
      "text/plain": [
       "1600"
      ]
     },
     "execution_count": 11,
     "metadata": {},
     "output_type": "execute_result"
    }
   ],
   "source": [
    "dataset_storage.size"
   ]
  },
  {
   "cell_type": "code",
   "execution_count": 12,
   "metadata": {},
   "outputs": [
    {
     "data": {
      "text/plain": [
       "Index(['datacenter_id', 'datacenter_storage_energy', 'storage_id', 'system',\n",
       "       'storage_capacity', 'capacity_used', 'inactive_duration',\n",
       "       'idle_intervals', 'total_energy_active', 'total_energy_idle',\n",
       "       'average_rotation_latency', 'average_seek_Time',\n",
       "       'max_internal_data_transfer_rate', 'idle_power', 'active_power',\n",
       "       'Unnamed: 15'],\n",
       "      dtype='object')"
      ]
     },
     "execution_count": 12,
     "metadata": {},
     "output_type": "execute_result"
    }
   ],
   "source": [
    "dataset_storage.columns"
   ]
  },
  {
   "cell_type": "code",
   "execution_count": 13,
   "metadata": {},
   "outputs": [
    {
     "data": {
      "text/plain": [
       "datacenter_id                        int64\n",
       "datacenter_storage_energy          float64\n",
       "storage_id                           int64\n",
       "system                              object\n",
       "storage_capacity                   float64\n",
       "capacity_used                      float64\n",
       "inactive_duration                  float64\n",
       "idle_intervals                      object\n",
       "total_energy_active                float64\n",
       "total_energy_idle                  float64\n",
       "average_rotation_latency           float64\n",
       "average_seek_Time                  float64\n",
       "max_internal_data_transfer_rate    float64\n",
       "idle_power                         float64\n",
       "active_power                       float64\n",
       "Unnamed: 15                        float64\n",
       "dtype: object"
      ]
     },
     "execution_count": 13,
     "metadata": {},
     "output_type": "execute_result"
    }
   ],
   "source": [
    "dataset_storage.dtypes"
   ]
  },
  {
   "cell_type": "code",
   "execution_count": 14,
   "metadata": {},
   "outputs": [
    {
     "name": "stdout",
     "output_type": "stream",
     "text": [
      "Number of null in the dataset: 100\n",
      "Number of NaN in the dataset: 100\n"
     ]
    }
   ],
   "source": [
    "print(f\"Number of null in the dataset: {dataset_storage.isnull().sum().sum()}\")\n",
    "print(f\"Number of NaN in the dataset: {dataset_storage.isna().sum().sum()}\")"
   ]
  },
  {
   "cell_type": "code",
   "execution_count": 15,
   "metadata": {},
   "outputs": [
    {
     "name": "stdout",
     "output_type": "stream",
     "text": [
      "Number of null per field: \n",
      "datacenter_id                        0\n",
      "datacenter_storage_energy            0\n",
      "storage_id                           0\n",
      "system                               0\n",
      "storage_capacity                     0\n",
      "capacity_used                        0\n",
      "inactive_duration                    0\n",
      "idle_intervals                       0\n",
      "total_energy_active                  0\n",
      "total_energy_idle                    0\n",
      "average_rotation_latency             0\n",
      "average_seek_Time                    0\n",
      "max_internal_data_transfer_rate      0\n",
      "idle_power                           0\n",
      "active_power                         0\n",
      "Unnamed: 15                        100\n",
      "dtype: int64\n",
      "Number of NaN per field: \n",
      "datacenter_id                        0\n",
      "datacenter_storage_energy            0\n",
      "storage_id                           0\n",
      "system                               0\n",
      "storage_capacity                     0\n",
      "capacity_used                        0\n",
      "inactive_duration                    0\n",
      "idle_intervals                       0\n",
      "total_energy_active                  0\n",
      "total_energy_idle                    0\n",
      "average_rotation_latency             0\n",
      "average_seek_Time                    0\n",
      "max_internal_data_transfer_rate      0\n",
      "idle_power                           0\n",
      "active_power                         0\n",
      "Unnamed: 15                        100\n",
      "dtype: int64\n"
     ]
    }
   ],
   "source": [
    "print(f\"Number of null per field: \\n{dataset_storage.isnull().sum()}\")\n",
    "print(f\"Number of NaN per field: \\n{dataset_storage.isna().sum()}\")"
   ]
  },
  {
   "cell_type": "code",
   "execution_count": 16,
   "metadata": {},
   "outputs": [
    {
     "name": "stdout",
     "output_type": "stream",
     "text": [
      "Datacenter 3 has 7 disk\n"
     ]
    }
   ],
   "source": [
    "labels, values = np.unique(dataset_storage['datacenter_id'], return_counts=True)\n",
    "for i in range(len(labels)):\n",
    "    print(f\"Datacenter {labels[i]} has {int(values[i]/14)} disk\")"
   ]
  },
  {
   "cell_type": "code",
   "execution_count": 26,
   "metadata": {},
   "outputs": [
    {
     "name": "stdout",
     "output_type": "stream",
     "text": [
      "duration 16.520692907368282, active duration 15.520672174351263, idle duration: 1.0000207330170203\n",
      "duration 16.52730395343612, active duration 15.527278535772728, idle duration: 1.0000254176633934\n",
      "duration 19.11534065523908, active duration 18.115313524077404, idle duration: 1.0000271311616769\n",
      "duration 16.525070129275235, active duration 15.525032544983098, idle duration: 1.000037584292138\n",
      "duration 16.531459866944704, active duration 15.531396948005792, idle duration: 1.0000629189389107\n",
      "duration 19.11529380669626, active duration 18.115218823756077, idle duration: 1.000074982940185\n",
      "duration 19.113655916604227, active duration 18.113574813072116, idle duration: 1.00008110353211\n",
      "duration 16.523598512866005, active duration 15.52350735036665, idle duration: 1.0000911624993545\n",
      "duration 19.114988962701773, active duration 18.11489152271444, idle duration: 1.0000974399873332\n",
      "duration 0.0, active duration 0.0, idle duration: 0\n",
      "duration 0.0, active duration 0.0, idle duration: 0\n",
      "duration 0.0, active duration 0.0, idle duration: 0\n",
      "duration 0.0, active duration 0.0, idle duration: 0\n",
      "duration 0.0, active duration 0.0, idle duration: 0\n",
      "duration 0.0, active duration 0.0, idle duration: 0\n",
      "duration 0.0, active duration 0.0, idle duration: 0\n",
      "duration 0.0, active duration 0.0, idle duration: 0\n",
      "duration 0.0, active duration 0.0, idle duration: 0\n",
      "duration 0.0, active duration 0.0, idle duration: 0\n",
      "duration 0.0, active duration 0.0, idle duration: 0\n",
      "duration 0.0, active duration 0.0, idle duration: 0\n",
      "duration 0.0, active duration 0.0, idle duration: 0\n",
      "duration 0.0, active duration 0.0, idle duration: 0\n",
      "duration 0.0, active duration 0.0, idle duration: 0\n",
      "duration 0.0, active duration 0.0, idle duration: 0\n",
      "duration 0.0, active duration 0.0, idle duration: 0\n",
      "duration 0.0, active duration 0.0, idle duration: 0\n",
      "duration 0.0, active duration 0.0, idle duration: 0\n",
      "duration 0.0, active duration 0.0, idle duration: 0\n",
      "duration 0.0, active duration 0.0, idle duration: 0\n",
      "duration 0.0, active duration 0.0, idle duration: 0\n",
      "duration 0.0, active duration 0.0, idle duration: 0\n",
      "duration 0.0, active duration 0.0, idle duration: 0\n",
      "duration 0.0, active duration 0.0, idle duration: 0\n",
      "duration 0.0, active duration 0.0, idle duration: 0\n",
      "duration 0.0, active duration 0.0, idle duration: 0\n",
      "duration 0.0, active duration 0.0, idle duration: 0\n",
      "duration 0.0, active duration 0.0, idle duration: 0\n",
      "duration 0.0, active duration 0.0, idle duration: 0\n",
      "duration 0.0, active duration 0.0, idle duration: 0\n",
      "duration 0.0, active duration 0.0, idle duration: 0\n",
      "duration 0.0, active duration 0.0, idle duration: 0\n",
      "duration 0.0, active duration 0.0, idle duration: 0\n",
      "duration 0.0, active duration 0.0, idle duration: 0\n",
      "duration 0.0, active duration 0.0, idle duration: 0\n",
      "duration 0.0, active duration 0.0, idle duration: 0\n",
      "duration 0.0, active duration 0.0, idle duration: 0\n",
      "duration 0.0, active duration 0.0, idle duration: 0\n",
      "duration 0.0, active duration 0.0, idle duration: 0\n",
      "duration 0.0, active duration 0.0, idle duration: 0\n",
      "duration 0.0, active duration 0.0, idle duration: 0\n",
      "duration 0.0, active duration 0.0, idle duration: 0\n",
      "duration 0.0, active duration 0.0, idle duration: 0\n",
      "duration 0.0, active duration 0.0, idle duration: 0\n",
      "duration 0.0, active duration 0.0, idle duration: 0\n",
      "duration 0.0, active duration 0.0, idle duration: 0\n",
      "duration 0.0, active duration 0.0, idle duration: 0\n",
      "duration 0.0, active duration 0.0, idle duration: 0\n",
      "duration 0.0, active duration 0.0, idle duration: 0\n",
      "duration 0.0, active duration 0.0, idle duration: 0\n",
      "duration 0.0, active duration 0.0, idle duration: 0\n",
      "duration 0.0, active duration 0.0, idle duration: 0\n",
      "duration 0.0, active duration 0.0, idle duration: 0\n",
      "duration 0.0, active duration 0.0, idle duration: 0\n",
      "duration 0.0, active duration 0.0, idle duration: 0\n",
      "duration 0.0, active duration 0.0, idle duration: 0\n",
      "duration 0.0, active duration 0.0, idle duration: 0\n",
      "duration 0.0, active duration 0.0, idle duration: 0\n",
      "duration 0.0, active duration 0.0, idle duration: 0\n",
      "duration 0.0, active duration 0.0, idle duration: 0\n",
      "duration 0.0, active duration 0.0, idle duration: 0\n",
      "duration 0.0, active duration 0.0, idle duration: 0\n",
      "duration 0.0, active duration 0.0, idle duration: 0\n",
      "duration 0.0, active duration 0.0, idle duration: 0\n",
      "duration 0.0, active duration 0.0, idle duration: 0\n",
      "duration 0.0, active duration 0.0, idle duration: 0\n",
      "duration 0.0, active duration 0.0, idle duration: 0\n",
      "duration 0.0, active duration 0.0, idle duration: 0\n",
      "duration 0.0, active duration 0.0, idle duration: 0\n",
      "duration 0.0, active duration 0.0, idle duration: 0\n",
      "duration 0.0, active duration 0.0, idle duration: 0\n",
      "duration 0.0, active duration 0.0, idle duration: 0\n",
      "duration 0.0, active duration 0.0, idle duration: 0\n",
      "duration 0.0, active duration 0.0, idle duration: 0\n",
      "duration 0.0, active duration 0.0, idle duration: 0\n",
      "duration 0.0, active duration 0.0, idle duration: 0\n",
      "duration 0.0, active duration 0.0, idle duration: 0\n",
      "duration 0.0, active duration 0.0, idle duration: 0\n",
      "duration 0.0, active duration 0.0, idle duration: 0\n",
      "duration 0.0, active duration 0.0, idle duration: 0\n",
      "duration 0.0, active duration 0.0, idle duration: 0\n",
      "duration 0.0, active duration 0.0, idle duration: 0\n",
      "duration 0.0, active duration 0.0, idle duration: 0\n",
      "duration 0.0, active duration 0.0, idle duration: 0\n",
      "duration 0.0, active duration 0.0, idle duration: 0\n",
      "duration 0.0, active duration 0.0, idle duration: 0\n",
      "duration 0.0, active duration 0.0, idle duration: 0\n",
      "duration 0.0, active duration 0.0, idle duration: 0\n",
      "duration 0.0, active duration 0.0, idle duration: 0\n",
      "duration 0.0, active duration 0.0, idle duration: 0\n"
     ]
    }
   ],
   "source": [
    "for _, sample in pd.read_csv(\"./data/logfile-storage-v0.csv\", delimiter=\";\").iterrows():\n",
    "    idle_duration = 0\n",
    "    if pd.notna(sample['idle_intervals']):\n",
    "        for idle_interval in sample['idle_intervals'].split(\":\"):\n",
    "            if idle_interval != '':\n",
    "                idle_duration += float(idle_interval)\n",
    "            \n",
    "    print(f\"duration {float(sample['active_duration'])+float(idle_duration)}, active duration {sample['active_duration']}, idle duration: {idle_duration}\")\n",
    "        "
   ]
  },
  {
   "cell_type": "code",
   "execution_count": null,
   "metadata": {},
   "outputs": [],
   "source": []
  }
 ],
 "metadata": {
  "kernelspec": {
   "display_name": "Python 3",
   "language": "python",
   "name": "python3"
  },
  "language_info": {
   "codemirror_mode": {
    "name": "ipython",
    "version": 3
   },
   "file_extension": ".py",
   "mimetype": "text/x-python",
   "name": "python",
   "nbconvert_exporter": "python",
   "pygments_lexer": "ipython3",
   "version": "3.10.12"
  }
 },
 "nbformat": 4,
 "nbformat_minor": 2
}
